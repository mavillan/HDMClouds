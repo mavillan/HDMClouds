{
 "cells": [
  {
   "cell_type": "code",
   "execution_count": 1,
   "metadata": {},
   "outputs": [],
   "source": [
    "import sys\n",
    "import numpy as np\n",
    "import numba\n",
    "from numba import prange\n",
    "from sklearn.neighbors import NearestNeighbors\n",
    "import matplotlib.pyplot as plt\n",
    "import multiprocessing\n",
    "\n",
    "sys.path.append('../lib/')\n",
    "from utils import *\n",
    "from fgm_eval import *\n",
    "\n",
    "%load_ext Cython"
   ]
  },
  {
   "cell_type": "code",
   "execution_count": 2,
   "metadata": {},
   "outputs": [
    {
     "name": "stdout",
     "output_type": "stream",
     "text": [
      "Number of cores in tested machine:  24\n"
     ]
    }
   ],
   "source": [
    "print(\"Number of cores in tested machine: \",multiprocessing.cpu_count())"
   ]
  },
  {
   "cell_type": "markdown",
   "metadata": {},
   "source": [
    "### Test data"
   ]
  },
  {
   "cell_type": "code",
   "execution_count": 8,
   "metadata": {},
   "outputs": [],
   "source": [
    "Nc = 1000\n",
    "Ne = 2*Nc\n",
    "\n",
    "c = 0.25*np.random.random(Nc)\n",
    "sig = np.ones(Nc)*0.05\n",
    "mu_center = np.random.random((Nc,2))\n",
    "mu_eval = np.random.random((Ne,2))\n",
    "xc = mu_center[:,0]\n",
    "yc = mu_center[:,1]\n",
    "xe = mu_eval[:,0]\n",
    "ye = mu_eval[:,1]\n",
    "\n",
    "neigh_indexes1, neigh_indexes_aux = compute_neighbors(mu_center, mu_eval, 5*np.max(sig))\n",
    "neigh_indexes2 = compute_neighbors2(mu_center, mu_eval, 5*np.max(sig))"
   ]
  },
  {
   "cell_type": "markdown",
   "metadata": {},
   "source": [
    "### 1.- First _naive_ implementation"
   ]
  },
  {
   "cell_type": "code",
   "execution_count": 9,
   "metadata": {},
   "outputs": [],
   "source": [
    "u1 = gm_eval(c, sig, xc, yc, xe, ye)"
   ]
  },
  {
   "cell_type": "code",
   "execution_count": 10,
   "metadata": {},
   "outputs": [
    {
     "name": "stdout",
     "output_type": "stream",
     "text": [
      "54.5 ms ± 572 µs per loop (mean ± std. dev. of 7 runs, 100 loops each)\n"
     ]
    }
   ],
   "source": [
    "tr1 = %timeit -o -n 100 gm_eval(c, sig, xc, yc, xe, ye)"
   ]
  },
  {
   "cell_type": "markdown",
   "metadata": {},
   "source": [
    "***"
   ]
  },
  {
   "cell_type": "markdown",
   "metadata": {},
   "source": [
    "### 2.- Second implementation: Gaussian Truncation"
   ]
  },
  {
   "cell_type": "code",
   "execution_count": 11,
   "metadata": {},
   "outputs": [],
   "source": [
    "u2 = gm_eval_trunc(c,sig,xc,yc,xe,ye,neigh_indexes1,neigh_indexes_aux)"
   ]
  },
  {
   "cell_type": "code",
   "execution_count": 12,
   "metadata": {
    "scrolled": false
   },
   "outputs": [
    {
     "name": "stdout",
     "output_type": "stream",
     "text": [
      "10.6 ms ± 2.3 µs per loop (mean ± std. dev. of 7 runs, 100 loops each)\n"
     ]
    }
   ],
   "source": [
    "tr2 = %timeit -o -n 100 gm_eval_trunc(c,sig,xc,yc,xe,ye,neigh_indexes1,neigh_indexes_aux)"
   ]
  },
  {
   "cell_type": "code",
   "execution_count": 13,
   "metadata": {},
   "outputs": [
    {
     "name": "stdout",
     "output_type": "stream",
     "text": [
      "Speedup: 5.157884415614183\n"
     ]
    }
   ],
   "source": [
    "print(\"Speedup: {0}\".format(tr1.average/tr2.average))"
   ]
  },
  {
   "cell_type": "code",
   "execution_count": 14,
   "metadata": {},
   "outputs": [
    {
     "name": "stdout",
     "output_type": "stream",
     "text": [
      "Infinity norm of u1-u2: 2.7891577936145495e-11 \n"
     ]
    }
   ],
   "source": [
    "print(\"Infinity norm of u1-u2: {0} \".format(np.max(np.abs(u1-u2))))"
   ]
  },
  {
   "cell_type": "markdown",
   "metadata": {},
   "source": [
    "It can be further improved with bigger values of `maxsig`."
   ]
  },
  {
   "cell_type": "markdown",
   "metadata": {},
   "source": [
    "### 3.- _Naive_ + paralelization"
   ]
  },
  {
   "cell_type": "code",
   "execution_count": 15,
   "metadata": {},
   "outputs": [],
   "source": [
    "from threading import Thread"
   ]
  },
  {
   "cell_type": "code",
   "execution_count": 16,
   "metadata": {},
   "outputs": [],
   "source": [
    "@numba.jit(nopython=True, nogil=True)\n",
    "def _gm_eval_thread(c, sig, xc, yc, xe, ye, sind, chunk_size, res):\n",
    "    n = len(xc)\n",
    "    for i in range(sind,sind+chunk_size):\n",
    "        for j in range(n):\n",
    "            dist2 = (xe[i]-xc[j])**2 + (ye[i]-yc[j])**2\n",
    "            res[i] += c[j] * exp( -dist2 / sig[j]**2 )\n",
    "            \n",
    "def gm_eval_thread(c, sig, xc, yc, xe, ye, n_thread=2):\n",
    "    # array for results\n",
    "    Ne = len(xe)\n",
    "    res = np.zeros(Ne)\n",
    "    \n",
    "    # data size for each thread\n",
    "    chunk_size = Ne // n_thread\n",
    "    \n",
    "    # starting index for each thread\n",
    "    start_indexes = [i * chunk_size for i in range(n_thread)]\n",
    "    \n",
    "    threads = [Thread(target=_gm_eval_thread, \n",
    "                  args=(c,sig,xc,yc,xe,ye,sind,chunk_size,res)) for sind in start_indexes]\n",
    "    for thread in threads: thread.start()\n",
    "    for thread in threads: thread.join()\n",
    "        \n",
    "    return res"
   ]
  },
  {
   "cell_type": "code",
   "execution_count": 17,
   "metadata": {},
   "outputs": [],
   "source": [
    "u3 = gm_eval_thread(c, sig, xc, yc, xe, ye, n_thread=4)"
   ]
  },
  {
   "cell_type": "code",
   "execution_count": 18,
   "metadata": {},
   "outputs": [
    {
     "name": "stdout",
     "output_type": "stream",
     "text": [
      "15.3 ms ± 438 µs per loop (mean ± std. dev. of 7 runs, 100 loops each)\n"
     ]
    }
   ],
   "source": [
    "tr3 = %timeit -o -n 100 gm_eval_thread(c, sig, xc, yc, xe, ye, n_thread=4)"
   ]
  },
  {
   "cell_type": "code",
   "execution_count": 19,
   "metadata": {},
   "outputs": [
    {
     "name": "stdout",
     "output_type": "stream",
     "text": [
      "Speedup: 3.5714639873626\n"
     ]
    }
   ],
   "source": [
    "print(\"Speedup: {0}\".format(tr1.average/tr3.average))"
   ]
  },
  {
   "cell_type": "code",
   "execution_count": 20,
   "metadata": {},
   "outputs": [
    {
     "name": "stdout",
     "output_type": "stream",
     "text": [
      "Infinity norm of u1-u3: 6.661338147750939e-16 \n"
     ]
    }
   ],
   "source": [
    "print(\"Infinity norm of u1-u3: {0} \".format(np.max(np.abs(u1-u3))))"
   ]
  },
  {
   "cell_type": "markdown",
   "metadata": {},
   "source": [
    "### 4.- figtree"
   ]
  },
  {
   "cell_type": "code",
   "execution_count": 21,
   "metadata": {},
   "outputs": [
    {
     "ename": "ModuleNotFoundError",
     "evalue": "No module named 'pyfigtree'",
     "output_type": "error",
     "traceback": [
      "\u001b[0;31m---------------------------------------------------------------------------\u001b[0m",
      "\u001b[0;31mModuleNotFoundError\u001b[0m                       Traceback (most recent call last)",
      "\u001b[0;32m<ipython-input-21-a59024298885>\u001b[0m in \u001b[0;36m<module>\u001b[0;34m()\u001b[0m\n\u001b[0;32m----> 1\u001b[0;31m \u001b[0;32mfrom\u001b[0m \u001b[0mpyfigtree\u001b[0m \u001b[0;32mimport\u001b[0m \u001b[0mfigtree\u001b[0m\u001b[0;34m\u001b[0m\u001b[0m\n\u001b[0m",
      "\u001b[0;31mModuleNotFoundError\u001b[0m: No module named 'pyfigtree'"
     ]
    }
   ],
   "source": [
    "from pyfigtree import figtree"
   ]
  },
  {
   "cell_type": "code",
   "execution_count": 22,
   "metadata": {},
   "outputs": [
    {
     "ename": "NameError",
     "evalue": "name 'figtree' is not defined",
     "output_type": "error",
     "traceback": [
      "\u001b[0;31m---------------------------------------------------------------------------\u001b[0m",
      "\u001b[0;31mNameError\u001b[0m                                 Traceback (most recent call last)",
      "\u001b[0;32m<ipython-input-22-8f416682976b>\u001b[0m in \u001b[0;36m<module>\u001b[0;34m()\u001b[0m\n\u001b[1;32m      1\u001b[0m \u001b[0;31m# we set epsilon to match the error bound of the Gaussian truncation approach\u001b[0m\u001b[0;34m\u001b[0m\u001b[0;34m\u001b[0m\u001b[0m\n\u001b[0;32m----> 2\u001b[0;31m \u001b[0mu4\u001b[0m \u001b[0;34m=\u001b[0m \u001b[0mfigtree\u001b[0m\u001b[0;34m(\u001b[0m\u001b[0mmu_center\u001b[0m\u001b[0;34m,\u001b[0m \u001b[0mmu_eval\u001b[0m\u001b[0;34m,\u001b[0m \u001b[0mc\u001b[0m\u001b[0;34m,\u001b[0m \u001b[0mbandwidth\u001b[0m\u001b[0;34m=\u001b[0m\u001b[0;36m0.05\u001b[0m\u001b[0;34m,\u001b[0m \u001b[0mepsilon\u001b[0m\u001b[0;34m=\u001b[0m\u001b[0;36m1e-6\u001b[0m\u001b[0;34m)\u001b[0m\u001b[0;34m\u001b[0m\u001b[0m\n\u001b[0m",
      "\u001b[0;31mNameError\u001b[0m: name 'figtree' is not defined"
     ]
    }
   ],
   "source": [
    "# we set epsilon to match the error bound of the Gaussian truncation approach\n",
    "u4 = figtree(mu_center, mu_eval, c, bandwidth=0.05, epsilon=1e-6)"
   ]
  },
  {
   "cell_type": "code",
   "execution_count": 18,
   "metadata": {},
   "outputs": [
    {
     "name": "stdout",
     "output_type": "stream",
     "text": [
      "13.6 ms ± 31.1 µs per loop (mean ± std. dev. of 7 runs, 100 loops each)\n"
     ]
    }
   ],
   "source": [
    "%timeit -n 100 figtree(mu_center, mu_eval, c, bandwidth=0.05, epsilon=1e-5)"
   ]
  },
  {
   "cell_type": "code",
   "execution_count": 19,
   "metadata": {},
   "outputs": [
    {
     "name": "stdout",
     "output_type": "stream",
     "text": [
      "Infinity norm of u1-u5: 1.5058086096043175 \n"
     ]
    }
   ],
   "source": [
    "print(\"Infinity norm of u1-u5: {0} \".format(np.max(np.abs(u1-u4))))"
   ]
  },
  {
   "cell_type": "markdown",
   "metadata": {},
   "source": [
    "## Parallelization of Gaussian Truncation approach"
   ]
  },
  {
   "cell_type": "markdown",
   "metadata": {},
   "source": [
    "### 5.- Python threads"
   ]
  },
  {
   "cell_type": "code",
   "execution_count": 23,
   "metadata": {},
   "outputs": [],
   "source": [
    "@numba.jit(nopython=True)\n",
    "def _gm_eval_fast(c, sig, xc, yc, xe, ye, neigh_indexes, \n",
    "                 neigh_indexes_aux, _sind, chunk_size, ret):\n",
    "    sind = 0 # start index\n",
    "    if _sind!=0: sind = neigh_indexes_aux[_sind-1]\n",
    "    for i in range(_sind,_sind+chunk_size):\n",
    "        eind = neigh_indexes_aux[i] # end index\n",
    "        for j in neigh_indexes[sind:eind]:\n",
    "            dist2 = (xe[i]-xc[j])**2 + (ye[i]-yc[j])**2\n",
    "            ret[i] += c[j] * exp( -dist2 / sig[j]**2 )\n",
    "        sind = eind\n",
    "\n",
    "\n",
    "def gm_eval_thread_naive(c, sig, xc, yc, xe, ye, neigh_indexes,\n",
    "                       neigh_indexes_aux, n_thread=2):\n",
    "    # array for results\n",
    "    Ne = len(xe)\n",
    "    ret = np.zeros(Ne)\n",
    "    \n",
    "    # data size for each thread\n",
    "    chunk_size = Ne // n_thread\n",
    "    \n",
    "    # starting index for each thread\n",
    "    start_indexes = [i * chunk_size for i in range(n_thread)]\n",
    "    \n",
    "    threads = [Thread(target=_gm_eval_fast, \n",
    "                  args=(c,sig,xc,yc,xe,ye,neigh_indexes,neigh_indexes_aux,sind,chunk_size,ret)) for sind in start_indexes]\n",
    "    for thread in threads: thread.start()\n",
    "    for thread in threads: thread.join()\n",
    "        \n",
    "    return ret"
   ]
  },
  {
   "cell_type": "code",
   "execution_count": 24,
   "metadata": {},
   "outputs": [],
   "source": [
    "u5 = gm_eval_thread_naive(c, sig, xc, yc, xe, ye, neigh_indexes1, neigh_indexes_aux, n_thread=24)"
   ]
  },
  {
   "cell_type": "code",
   "execution_count": 25,
   "metadata": {},
   "outputs": [
    {
     "name": "stdout",
     "output_type": "stream",
     "text": [
      "12.5 ms ± 122 µs per loop (mean ± std. dev. of 7 runs, 100 loops each)\n"
     ]
    }
   ],
   "source": [
    "tr5 = %timeit -o -n 100 gm_eval_thread_naive(c, sig, xc, yc, xe, ye, neigh_indexes1, neigh_indexes_aux, n_thread=24)"
   ]
  },
  {
   "cell_type": "code",
   "execution_count": 26,
   "metadata": {},
   "outputs": [
    {
     "name": "stdout",
     "output_type": "stream",
     "text": [
      "Parallelization speedup: 0.8428537957452484\n"
     ]
    }
   ],
   "source": [
    "print(\"Parallelization speedup: {0}\".format(tr2.average/tr5.average))"
   ]
  },
  {
   "cell_type": "code",
   "execution_count": 27,
   "metadata": {},
   "outputs": [
    {
     "name": "stdout",
     "output_type": "stream",
     "text": [
      "Total speedup: 4.347342457715677\n"
     ]
    }
   ],
   "source": [
    "print(\"Total speedup: {0}\".format(tr1.average/tr5.average))"
   ]
  },
  {
   "cell_type": "code",
   "execution_count": 28,
   "metadata": {},
   "outputs": [
    {
     "name": "stdout",
     "output_type": "stream",
     "text": [
      "Infinity norm of u1-u5: 1.3627992856696194 \n"
     ]
    }
   ],
   "source": [
    "print(\"Infinity norm of u1-u5: {0} \".format(np.max(np.abs(u1-u5))))"
   ]
  },
  {
   "cell_type": "markdown",
   "metadata": {},
   "source": [
    "### 6.- Numba Paralelization"
   ]
  },
  {
   "cell_type": "code",
   "execution_count": 29,
   "metadata": {},
   "outputs": [],
   "source": [
    "@numba.jit(nopython=True, parallel=True)\n",
    "def gm_eval_thread_numba(c, sig, xc, yc, xe, ye, \n",
    "                neigh_indexes, neigh_indexes_aux):\n",
    "    m = len(xe)\n",
    "    n = len(xc)\n",
    "    ret = np.zeros(m)\n",
    "    for i in prange(m):\n",
    "        if i==0: sind = 0\n",
    "        else:    sind = neigh_indexes_aux[i-1]\n",
    "        eind = neigh_indexes_aux[i] # end index\n",
    "        for j in neigh_indexes[sind:eind]:\n",
    "            dist2 = (xe[i]-xc[j])**2 + (ye[i]-yc[j])**2\n",
    "            ret[i] += c[j] * exp( -dist2 / sig[j]**2 )\n",
    "    return ret"
   ]
  },
  {
   "cell_type": "code",
   "execution_count": 30,
   "metadata": {},
   "outputs": [],
   "source": [
    "u6 = gm_eval_thread_numba(c, sig, xc, yc, xe, ye, neigh_indexes1, neigh_indexes_aux)"
   ]
  },
  {
   "cell_type": "code",
   "execution_count": 31,
   "metadata": {},
   "outputs": [
    {
     "name": "stdout",
     "output_type": "stream",
     "text": [
      "1.22 ms ± 132 µs per loop (mean ± std. dev. of 7 runs, 100 loops each)\n"
     ]
    }
   ],
   "source": [
    "tr6 = %timeit -o -n 100 gm_eval_thread_numba(c, sig, xc, yc, xe, ye, neigh_indexes1, neigh_indexes_aux)"
   ]
  },
  {
   "cell_type": "code",
   "execution_count": 32,
   "metadata": {},
   "outputs": [
    {
     "name": "stdout",
     "output_type": "stream",
     "text": [
      "Parallelization speedup: 8.631194142878915\n"
     ]
    }
   ],
   "source": [
    "print(\"Parallelization speedup: {0}\".format(tr2.average/tr6.average))"
   ]
  },
  {
   "cell_type": "code",
   "execution_count": 33,
   "metadata": {},
   "outputs": [
    {
     "name": "stdout",
     "output_type": "stream",
     "text": [
      "Total speedup: 44.518701757695574\n"
     ]
    }
   ],
   "source": [
    "print(\"Total speedup: {0}\".format(tr1.average/tr6.average))"
   ]
  },
  {
   "cell_type": "code",
   "execution_count": 34,
   "metadata": {},
   "outputs": [
    {
     "name": "stdout",
     "output_type": "stream",
     "text": [
      "Infinity norm of u1-u6: 2.7891466913843033e-11 \n"
     ]
    }
   ],
   "source": [
    "print(\"Infinity norm of u1-u6: {0} \".format(np.max(np.abs(u1-u6))))"
   ]
  },
  {
   "cell_type": "markdown",
   "metadata": {},
   "source": [
    "### 7.- Numba paralelization 2"
   ]
  },
  {
   "cell_type": "code",
   "execution_count": 35,
   "metadata": {},
   "outputs": [],
   "source": [
    "@numba.jit(nopython=True, parallel=True)\n",
    "def gm_eval_thread_numba2(c, sig, xc, yc, xe, ye, neigh_indexes):\n",
    "    m = len(xe)\n",
    "    ret = np.zeros(m)\n",
    "    for i in prange(m):\n",
    "        for j in neigh_indexes[i,:]:\n",
    "            if j==-1: break\n",
    "            dist2 = (xe[i]-xc[j])**2 + (ye[i]-yc[j])**2\n",
    "            ret[i] += c[j] * exp( -dist2 / sig[j]**2 )\n",
    "    return ret"
   ]
  },
  {
   "cell_type": "code",
   "execution_count": 36,
   "metadata": {},
   "outputs": [],
   "source": [
    "u7 = gm_eval_thread_numba2(c, sig, xc, yc, xe, ye, neigh_indexes2)"
   ]
  },
  {
   "cell_type": "code",
   "execution_count": 37,
   "metadata": {},
   "outputs": [
    {
     "name": "stdout",
     "output_type": "stream",
     "text": [
      "1.08 ms ± 91.7 µs per loop (mean ± std. dev. of 7 runs, 100 loops each)\n"
     ]
    }
   ],
   "source": [
    "tr7 = %timeit -o -n 100 gm_eval_thread_numba2(c, sig, xc, yc, xe, ye, neigh_indexes2)"
   ]
  },
  {
   "cell_type": "code",
   "execution_count": 38,
   "metadata": {},
   "outputs": [
    {
     "name": "stdout",
     "output_type": "stream",
     "text": [
      "Parallelization speedup: 9.795000082656546\n"
     ]
    }
   ],
   "source": [
    "print(\"Parallelization speedup: {0}\".format(tr2.average/tr7.average))"
   ]
  },
  {
   "cell_type": "code",
   "execution_count": 39,
   "metadata": {},
   "outputs": [
    {
     "name": "stdout",
     "output_type": "stream",
     "text": [
      "Total speedup: 50.52147827727384\n"
     ]
    }
   ],
   "source": [
    "print(\"Total speedup: {0}\".format(tr1.average/tr7.average))"
   ]
  },
  {
   "cell_type": "code",
   "execution_count": 40,
   "metadata": {},
   "outputs": [
    {
     "name": "stdout",
     "output_type": "stream",
     "text": [
      "Infinity norm of u1-u7: 2.7891466913843033e-11 \n"
     ]
    }
   ],
   "source": [
    "print(\"Infinity norm of u1-u7: {0} \".format(np.max(np.abs(u1-u7))))"
   ]
  },
  {
   "cell_type": "markdown",
   "metadata": {},
   "source": [
    "### 8.- Cython Paralelization 1"
   ]
  },
  {
   "cell_type": "code",
   "execution_count": 77,
   "metadata": {},
   "outputs": [],
   "source": [
    "u8 = gm_eval_trunc_thread(c, sig, xc, yc, xe, ye, neigh_indexes1, neigh_indexes_aux)"
   ]
  },
  {
   "cell_type": "code",
   "execution_count": 78,
   "metadata": {},
   "outputs": [
    {
     "name": "stdout",
     "output_type": "stream",
     "text": [
      "535 µs ± 7.09 µs per loop (mean ± std. dev. of 7 runs, 10000 loops each)\n"
     ]
    }
   ],
   "source": [
    "tr8 = %timeit -o -n 10000 gm_eval_trunc_thread(c, sig, xc, yc, xe, ye, neigh_indexes1, neigh_indexes_aux)"
   ]
  },
  {
   "cell_type": "code",
   "execution_count": 79,
   "metadata": {},
   "outputs": [
    {
     "name": "stdout",
     "output_type": "stream",
     "text": [
      "Parallelization speedup: 19.761299652481227\n"
     ]
    }
   ],
   "source": [
    "print(\"Parallelization speedup: {0}\".format(tr2.average/tr8.average))"
   ]
  },
  {
   "cell_type": "code",
   "execution_count": 80,
   "metadata": {},
   "outputs": [
    {
     "name": "stdout",
     "output_type": "stream",
     "text": [
      "Total speedup: 101.9264995098149\n"
     ]
    }
   ],
   "source": [
    "print(\"Total speedup: {0}\".format(tr1.average/tr8.average))"
   ]
  },
  {
   "cell_type": "code",
   "execution_count": 81,
   "metadata": {},
   "outputs": [
    {
     "name": "stdout",
     "output_type": "stream",
     "text": [
      "Infinity norm of u1-u8: 2.7891577936145495e-11 \n"
     ]
    }
   ],
   "source": [
    "print(\"Infinity norm of u1-u8: {0} \".format(np.max(np.abs(u1-u8))))"
   ]
  },
  {
   "cell_type": "markdown",
   "metadata": {},
   "source": [
    "### 9.- Cython Paralelization 2"
   ]
  },
  {
   "cell_type": "code",
   "execution_count": 82,
   "metadata": {},
   "outputs": [],
   "source": [
    "u9 = gm_eval_trunc_thread2(c, sig, xc, yc, xe, ye, neigh_indexes2)"
   ]
  },
  {
   "cell_type": "code",
   "execution_count": 83,
   "metadata": {},
   "outputs": [
    {
     "name": "stdout",
     "output_type": "stream",
     "text": [
      "544 µs ± 2.6 µs per loop (mean ± std. dev. of 7 runs, 10000 loops each)\n"
     ]
    }
   ],
   "source": [
    "tr9 = %timeit -o -n 10000 gm_eval_trunc_thread2(c, sig, xc, yc, xe, ye, neigh_indexes2)"
   ]
  },
  {
   "cell_type": "code",
   "execution_count": 84,
   "metadata": {},
   "outputs": [
    {
     "name": "stdout",
     "output_type": "stream",
     "text": [
      "Parallelization speedup: 19.435589583805804\n"
     ]
    }
   ],
   "source": [
    "print(\"Parallelization speedup: {0}\".format(tr2.average/tr9.average))"
   ]
  },
  {
   "cell_type": "code",
   "execution_count": 85,
   "metadata": {},
   "outputs": [
    {
     "name": "stdout",
     "output_type": "stream",
     "text": [
      "Total speedup: 100.24652462258531\n"
     ]
    }
   ],
   "source": [
    "print(\"Total speedup: {0}\".format(tr1.average/tr9.average))"
   ]
  },
  {
   "cell_type": "code",
   "execution_count": 86,
   "metadata": {},
   "outputs": [
    {
     "name": "stdout",
     "output_type": "stream",
     "text": [
      "Infinity norm of u1-u9: 2.7891577936145495e-11 \n"
     ]
    }
   ],
   "source": [
    "print(\"Infinity norm of u1-u9: {0} \".format(np.max(np.abs(u1-u9))))"
   ]
  },
  {
   "cell_type": "markdown",
   "metadata": {},
   "source": [
    "***\n",
    "## Time comparison"
   ]
  },
  {
   "cell_type": "code",
   "execution_count": 48,
   "metadata": {},
   "outputs": [],
   "source": [
    "times1 = []\n",
    "times2 = []\n",
    "times3 = []\n",
    "n_points = list(range(250, 10001, 250))\n",
    "\n",
    "for Nc in n_points:\n",
    "    # points generation\n",
    "    Ne = 2*Nc\n",
    "    mu_center = np.random.random((Nc,2))\n",
    "    mu_eval = np.random.random((Ne,2))\n",
    "    c = 0.25*np.random.random(Nc)\n",
    "    sig = np.ones(Nc)*0.05\n",
    "    xc = mu_center[:,0]\n",
    "    yc = mu_center[:,1]\n",
    "    xe = mu_eval[:,0]\n",
    "    ye = mu_eval[:,1]\n",
    "    neigh_indexes,neigh_indexes_aux = compute_neighbors(mu_center, mu_eval, 5*np.max(sig))\n",
    "    \n",
    "    # evaluating performance of direct evaluation (naive)\n",
    "    tr1 = %timeit -o -n 10 -q gm_eval(c, sig, xc, yc, xe, ye)\n",
    "    times1.append(tr1.average)\n",
    "    \n",
    "    # evaluating performance of Gaussian truncation\n",
    "    tr2 = %timeit -o -n 10 -q gm_eval_trunc(c,sig,xc,yc,xe,ye,neigh_indexes,neigh_indexes_aux)\n",
    "    times2.append(tr2.average)\n",
    "    \n",
    "    # evaluating performance of Gaussian truncation + paralelization\n",
    "    tr3 = %timeit -o -n 10 -q gm_eval_trunc_thread(c, sig, xc, yc, xe, ye, neigh_indexes, neigh_indexes_aux)\n",
    "    times3.append(tr3.average)"
   ]
  },
  {
   "cell_type": "code",
   "execution_count": 49,
   "metadata": {},
   "outputs": [
    {
     "data": {
      "image/png": "[encoded data removed]",
      "text/plain": [
       "<matplotlib.figure.Figure at 0x2aaaf0a2a748>"
      ]
     },
     "metadata": {},
     "output_type": "display_data"
    }
   ],
   "source": [
    "plt.figure(figsize=(10,6))\n",
    "plt.plot(n_points, times1, \"o--\", label=\"naive\")\n",
    "plt.plot(n_points, times2, \"o--\", label=\"truncation\")\n",
    "plt.plot(n_points, times3, \"o--\", label=\"truncation + paralel\")\n",
    "plt.grid()\n",
    "plt.legend(loc=\"best\")\n",
    "plt.xlabel(\"number of centers\")\n",
    "plt.ylabel(\"s\")\n",
    "plt.show()"
   ]
  },
  {
   "cell_type": "code",
   "execution_count": 50,
   "metadata": {},
   "outputs": [
    {
     "data": {
      "image/png": "[encoded data removed]",
      "text/plain": [
       "<matplotlib.figure.Figure at 0x2aaaf053afd0>"
      ]
     },
     "metadata": {},
     "output_type": "display_data"
    }
   ],
   "source": [
    "plt.figure(figsize=(10,6))\n",
    "plt.semilogy(n_points, times1, \"o--\", label=\"naive\")\n",
    "plt.semilogy(n_points, times2, \"o--\", label=\"truncation\")\n",
    "plt.semilogy(n_points, times3, \"o--\", label=\"truncation + paralel\")\n",
    "plt.grid()\n",
    "plt.legend(loc=\"best\")\n",
    "plt.xlabel(\"number of centers\")\n",
    "plt.ylabel(\"s\")\n",
    "plt.show()"
   ]
  },
  {
   "cell_type": "code",
   "execution_count": 51,
   "metadata": {},
   "outputs": [
    {
     "data": {
      "image/png": "[encoded data removed]",
      "text/plain": [
       "<matplotlib.figure.Figure at 0x2aaaf053fc88>"
      ]
     },
     "metadata": {},
     "output_type": "display_data"
    }
   ],
   "source": [
    "plt.figure(figsize=(10,6))\n",
    "plt.loglog(n_points, times1, \"o--\", label=\"naive\")\n",
    "plt.loglog(n_points, times2, \"o--\", label=\"truncation\")\n",
    "plt.loglog(n_points, times3, \"o--\", label=\"truncation + paralel\")\n",
    "plt.grid()\n",
    "plt.legend(loc=\"best\")\n",
    "plt.xlabel(\"number of centers\")\n",
    "plt.ylabel(\"s\")\n",
    "plt.show()"
   ]
  },
  {
   "cell_type": "markdown",
   "metadata": {},
   "source": [
    "***\n",
    "***\n",
    "\n",
    "# Benchmarks for u_eval_full\n",
    "\n",
    "### test data"
   ]
  },
  {
   "cell_type": "code",
   "execution_count": 2,
   "metadata": {},
   "outputs": [],
   "source": [
    "from fgm_eval import gm_eval_full,gm_eval_full_thread"
   ]
  },
  {
   "cell_type": "code",
   "execution_count": 4,
   "metadata": {},
   "outputs": [],
   "source": [
    "Nc = 1000\n",
    "Ne = 2*Nc\n",
    "\n",
    "c = 0.25*np.random.random(Nc)\n",
    "sig = np.ones((Nc,2))*0.05\n",
    "theta = np.ones(Nc)*np.pi/2.\n",
    "mu_center = np.random.random((Nc,2))\n",
    "mu_eval = np.random.random((Ne,2))\n",
    "xc = mu_center[:,0]\n",
    "yc = mu_center[:,1]\n",
    "xe = mu_eval[:,0]\n",
    "ye = mu_eval[:,1]\n",
    "\n",
    "neigh_indexes, neigh_indexes_aux = compute_neighbors(mu_center, mu_eval, 5*np.max(sig))"
   ]
  },
  {
   "cell_type": "code",
   "execution_count": 11,
   "metadata": {},
   "outputs": [
    {
     "name": "stdout",
     "output_type": "stream",
     "text": [
      "Infinity norm of u1-u2: 2.8314239841620292e-11 \n"
     ]
    }
   ],
   "source": [
    "u1 = gm_eval_full(c, sig, theta, xc, yc, xe, ye)\n",
    "u2 = gm_eval_full_thread(c, sig, theta, xc, yc, xe, ye, neigh_indexes, neigh_indexes_aux)\n",
    "print(\"Infinity norm of u1-u2: {0} \".format(np.max(np.abs(u1-u2))))"
   ]
  },
  {
   "cell_type": "code",
   "execution_count": 14,
   "metadata": {},
   "outputs": [
    {
     "name": "stdout",
     "output_type": "stream",
     "text": [
      "1.52 s ± 871 µs per loop (mean ± std. dev. of 7 runs, 10 loops each)\n"
     ]
    }
   ],
   "source": [
    "tr1 = %timeit -o -n 10 gm_eval_full(c, sig, theta, xc, yc, xe, ye)"
   ]
  },
  {
   "cell_type": "code",
   "execution_count": 15,
   "metadata": {},
   "outputs": [
    {
     "name": "stdout",
     "output_type": "stream",
     "text": [
      "12.5 ms ± 1.45 ms per loop (mean ± std. dev. of 7 runs, 10 loops each)\n"
     ]
    }
   ],
   "source": [
    "tr2 = %timeit -o -n 10 gm_eval_full_thread(c, sig, theta, xc, yc, xe, ye, neigh_indexes, neigh_indexes_aux)"
   ]
  },
  {
   "cell_type": "code",
   "execution_count": 16,
   "metadata": {},
   "outputs": [
    {
     "name": "stdout",
     "output_type": "stream",
     "text": [
      "Speedup: 121.71343930008308\n"
     ]
    }
   ],
   "source": [
    "print(\"Speedup: {0}\".format(tr1.average/tr2.average))"
   ]
  }
 ],
 "metadata": {
  "kernelspec": {
   "display_name": "Python 3",
   "language": "python",
   "name": "python3"
  },
  "language_info": {
   "codemirror_mode": {
    "name": "ipython",
    "version": 3
   },
   "file_extension": ".py",
   "mimetype": "text/x-python",
   "name": "python",
   "nbconvert_exporter": "python",
   "pygments_lexer": "ipython3",
   "version": "3.6.5"
  }
 },
 "nbformat": 4,
 "nbformat_minor": 2
}
