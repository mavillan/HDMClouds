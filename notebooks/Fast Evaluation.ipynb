{
 "cells": [
  {
   "cell_type": "code",
   "execution_count": 1,
   "metadata": {},
   "outputs": [],
   "source": [
    "import sys\n",
    "import numpy as np\n",
    "import numba\n",
    "from numba import prange\n",
    "from sklearn.neighbors import NearestNeighbors\n",
    "import matplotlib.pyplot as plt\n",
    "\n",
    "sys.path.append('../lib/')\n",
    "from utils import *\n",
    "\n",
    "%load_ext Cython"
   ]
  },
  {
   "cell_type": "markdown",
   "metadata": {},
   "source": [
    "### Test data"
   ]
  },
  {
   "cell_type": "code",
   "execution_count": 2,
   "metadata": {},
   "outputs": [],
   "source": [
    "Nc = 1000\n",
    "Ne = 2*Nc\n",
    "\n",
    "c = 0.25*np.random.random(Nc)\n",
    "sig = np.ones(Nc)*0.05\n",
    "mu_center = np.random.random((Nc,2))\n",
    "mu_eval = np.random.random((Ne,2))\n",
    "xc = mu_center[:,0]\n",
    "yc = mu_center[:,1]\n",
    "xe = mu_eval[:,0]\n",
    "ye = mu_eval[:,1]"
   ]
  },
  {
   "cell_type": "markdown",
   "metadata": {},
   "source": [
    "### 1.- First _naive_ implementation"
   ]
  },
  {
   "cell_type": "code",
   "execution_count": 3,
   "metadata": {},
   "outputs": [],
   "source": [
    "u1 = gm_eval(c, sig, xc, yc, xe, ye)"
   ]
  },
  {
   "cell_type": "code",
   "execution_count": 4,
   "metadata": {},
   "outputs": [
    {
     "name": "stdout",
     "output_type": "stream",
     "text": [
      "52.9 ms ± 66.6 µs per loop (mean ± std. dev. of 7 runs, 100 loops each)\n"
     ]
    }
   ],
   "source": [
    "tr1 = %timeit -o -n 100 gm_eval(c, sig, xc, yc, xe, ye)"
   ]
  },
  {
   "cell_type": "markdown",
   "metadata": {},
   "source": [
    "***"
   ]
  },
  {
   "cell_type": "markdown",
   "metadata": {},
   "source": [
    "### 2.- Second implementation: Gaussian Truncation"
   ]
  },
  {
   "cell_type": "code",
   "execution_count": 5,
   "metadata": {},
   "outputs": [],
   "source": [
    "neigh_indexes1, neigh_indexes_aux = compute_neighbors(mu_center, mu_eval, 5*np.max(sig))"
   ]
  },
  {
   "cell_type": "code",
   "execution_count": 6,
   "metadata": {},
   "outputs": [],
   "source": [
    "u2 = gm_eval_fast(c,sig,xc,yc,xe,ye,neigh_indexes1,neigh_indexes_aux)"
   ]
  },
  {
   "cell_type": "code",
   "execution_count": 7,
   "metadata": {
    "scrolled": false
   },
   "outputs": [
    {
     "name": "stdout",
     "output_type": "stream",
     "text": [
      "9.62 ms ± 12.8 µs per loop (mean ± std. dev. of 7 runs, 100 loops each)\n"
     ]
    }
   ],
   "source": [
    "tr2 = %timeit -o -n 100 gm_eval_fast(c,sig,xc,yc,xe,ye,neigh_indexes1,neigh_indexes_aux)"
   ]
  },
  {
   "cell_type": "code",
   "execution_count": 8,
   "metadata": {},
   "outputs": [
    {
     "name": "stdout",
     "output_type": "stream",
     "text": [
      "Speedup: 5.501489417613817\n"
     ]
    }
   ],
   "source": [
    "print(\"Speedup: {0}\".format(tr1.average/tr2.average))"
   ]
  },
  {
   "cell_type": "code",
   "execution_count": 9,
   "metadata": {},
   "outputs": [
    {
     "name": "stdout",
     "output_type": "stream",
     "text": [
      "Infinity norm of u1-u2: 1.1311722899254306e-05 \n"
     ]
    }
   ],
   "source": [
    "print(\"Infinity norm of u1-u2: {0} \".format(np.max(np.abs(u1-u2))))"
   ]
  },
  {
   "cell_type": "markdown",
   "metadata": {},
   "source": [
    "It can be further improved with bigger values of `maxsig`."
   ]
  },
  {
   "cell_type": "markdown",
   "metadata": {},
   "source": [
    "### 3.- _Naive_ + paralelization"
   ]
  },
  {
   "cell_type": "code",
   "execution_count": 10,
   "metadata": {},
   "outputs": [],
   "source": [
    "from threading import Thread"
   ]
  },
  {
   "cell_type": "code",
   "execution_count": 11,
   "metadata": {},
   "outputs": [],
   "source": [
    "@numba.jit(nopython=True, nogil=True)\n",
    "def _gm_eval_thread(c, sig, xc, yc, xe, ye, sind, chunk_size, res):\n",
    "    n = len(xc)\n",
    "    for i in range(sind,sind+chunk_size):\n",
    "        for j in range(n):\n",
    "            dist2 = (xe[i]-xc[j])**2 + (ye[i]-yc[j])**2\n",
    "            res[i] += c[j] * exp( -0.5 * dist2 / sig[j]**2 )\n",
    "            \n",
    "def gm_eval_thread(c, sig, xc, yc, xe, ye, n_thread=2):\n",
    "    # array for results\n",
    "    Ne = len(xe)\n",
    "    res = np.zeros(Ne)\n",
    "    \n",
    "    # data size for each thread\n",
    "    chunk_size = Ne // n_thread\n",
    "    \n",
    "    # starting index for each thread\n",
    "    start_indexes = [i * chunk_size for i in range(n_thread)]\n",
    "    \n",
    "    threads = [Thread(target=_gm_eval_thread, \n",
    "                  args=(c,sig,xc,yc,xe,ye,sind,chunk_size,res)) for sind in start_indexes]\n",
    "    for thread in threads: thread.start()\n",
    "    for thread in threads: thread.join()\n",
    "        \n",
    "    return res"
   ]
  },
  {
   "cell_type": "code",
   "execution_count": 12,
   "metadata": {},
   "outputs": [],
   "source": [
    "u3 = gm_eval_thread(c, sig, xc, yc, xe, ye, n_thread=4)"
   ]
  },
  {
   "cell_type": "code",
   "execution_count": 13,
   "metadata": {},
   "outputs": [
    {
     "name": "stdout",
     "output_type": "stream",
     "text": [
      "16.2 ms ± 306 µs per loop (mean ± std. dev. of 7 runs, 100 loops each)\n"
     ]
    }
   ],
   "source": [
    "tr3 = %timeit -o -n 100 gm_eval_thread(c, sig, xc, yc, xe, ye, n_thread=4)"
   ]
  },
  {
   "cell_type": "code",
   "execution_count": 14,
   "metadata": {},
   "outputs": [
    {
     "name": "stdout",
     "output_type": "stream",
     "text": [
      "Speedup: 3.271372078880253\n"
     ]
    }
   ],
   "source": [
    "print(\"Speedup: {0}\".format(tr1.average/tr3.average))"
   ]
  },
  {
   "cell_type": "code",
   "execution_count": 15,
   "metadata": {},
   "outputs": [
    {
     "name": "stdout",
     "output_type": "stream",
     "text": [
      "Infinity norm of u1-u3: 0.0 \n"
     ]
    }
   ],
   "source": [
    "print(\"Infinity norm of u1-u3: {0} \".format(np.max(np.abs(u1-u3))))"
   ]
  },
  {
   "cell_type": "markdown",
   "metadata": {},
   "source": [
    "### 4.- figtree"
   ]
  },
  {
   "cell_type": "code",
   "execution_count": 16,
   "metadata": {},
   "outputs": [],
   "source": [
    "from pyfigtree import figtree"
   ]
  },
  {
   "cell_type": "code",
   "execution_count": 17,
   "metadata": {},
   "outputs": [],
   "source": [
    "# we set epsilon to match the error bound of the Gaussian truncation approach\n",
    "u4 = figtree(mu_center, mu_eval, c, bandwidth=0.05, epsilon=1e-6)"
   ]
  },
  {
   "cell_type": "code",
   "execution_count": 18,
   "metadata": {},
   "outputs": [
    {
     "name": "stdout",
     "output_type": "stream",
     "text": [
      "13.6 ms ± 31.1 µs per loop (mean ± std. dev. of 7 runs, 100 loops each)\n"
     ]
    }
   ],
   "source": [
    "%timeit -n 100 figtree(mu_center, mu_eval, c, bandwidth=0.05, epsilon=1e-5)"
   ]
  },
  {
   "cell_type": "code",
   "execution_count": 19,
   "metadata": {},
   "outputs": [
    {
     "name": "stdout",
     "output_type": "stream",
     "text": [
      "Infinity norm of u1-u5: 1.5058086096043175 \n"
     ]
    }
   ],
   "source": [
    "print(\"Infinity norm of u1-u5: {0} \".format(np.max(np.abs(u1-u4))))"
   ]
  },
  {
   "cell_type": "markdown",
   "metadata": {},
   "source": [
    "## Parallelization of Gaussian Truncation approach"
   ]
  },
  {
   "cell_type": "markdown",
   "metadata": {},
   "source": [
    "### 5.- Python threads"
   ]
  },
  {
   "cell_type": "code",
   "execution_count": 20,
   "metadata": {},
   "outputs": [],
   "source": [
    "@numba.jit(nopython=True)\n",
    "def _gm_eval_fast(c, sig, xc, yc, xe, ye, neigh_indexes, \n",
    "                 neigh_indexes_aux, _sind, chunk_size, ret):\n",
    "    sind = 0 # start index\n",
    "    if _sind!=0: sind = neigh_indexes_aux[_sind-1]\n",
    "    for i in range(_sind,_sind+chunk_size):\n",
    "        eind = neigh_indexes_aux[i] # end index\n",
    "        for j in neigh_indexes[sind:eind]:\n",
    "            dist2 = (xe[i]-xc[j])**2 + (ye[i]-yc[j])**2\n",
    "            ret[i] += c[j] * exp( -0.5 * dist2 / sig[j]**2 )\n",
    "        sind = eind\n",
    "\n",
    "\n",
    "def gm_eval_thread_naive(c, sig, xc, yc, xe, ye, neigh_indexes,\n",
    "                       neigh_indexes_aux, n_thread=2):\n",
    "    # array for results\n",
    "    Ne = len(xe)\n",
    "    ret = np.zeros(Ne)\n",
    "    \n",
    "    # data size for each thread\n",
    "    chunk_size = Ne // n_thread\n",
    "    \n",
    "    # starting index for each thread\n",
    "    start_indexes = [i * chunk_size for i in range(n_thread)]\n",
    "    \n",
    "    threads = [Thread(target=_gm_eval_fast, \n",
    "                  args=(c,sig,xc,yc,xe,ye,neigh_indexes,neigh_indexes_aux,sind,chunk_size,ret)) for sind in start_indexes]\n",
    "    for thread in threads: thread.start()\n",
    "    for thread in threads: thread.join()\n",
    "        \n",
    "    return ret"
   ]
  },
  {
   "cell_type": "code",
   "execution_count": 23,
   "metadata": {},
   "outputs": [],
   "source": [
    "u5 = gm_eval_thread_naive(c, sig, xc, yc, xe, ye, neigh_indexes1, neigh_indexes_aux, n_thread=4)"
   ]
  },
  {
   "cell_type": "code",
   "execution_count": 24,
   "metadata": {},
   "outputs": [
    {
     "name": "stdout",
     "output_type": "stream",
     "text": [
      "10.3 ms ± 43.2 µs per loop (mean ± std. dev. of 7 runs, 100 loops each)\n"
     ]
    }
   ],
   "source": [
    "tr5 = %timeit -o -n 100 gm_eval_thread_naive(c, sig, xc, yc, xe, ye, neigh_indexes1, neigh_indexes_aux, n_thread=4)"
   ]
  },
  {
   "cell_type": "code",
   "execution_count": 25,
   "metadata": {},
   "outputs": [
    {
     "name": "stdout",
     "output_type": "stream",
     "text": [
      "Parallelization speedup: 0.9379773228705717\n"
     ]
    }
   ],
   "source": [
    "print(\"Parallelization speedup: {0}\".format(tr2.average/tr5.average))"
   ]
  },
  {
   "cell_type": "code",
   "execution_count": 26,
   "metadata": {},
   "outputs": [
    {
     "name": "stdout",
     "output_type": "stream",
     "text": [
      "Total speedup: 5.160272315734188\n"
     ]
    }
   ],
   "source": [
    "print(\"Total speedup: {0}\".format(tr1.average/tr5.average))"
   ]
  },
  {
   "cell_type": "code",
   "execution_count": 27,
   "metadata": {},
   "outputs": [
    {
     "name": "stdout",
     "output_type": "stream",
     "text": [
      "Infinity norm of u1-u5: 1.1311722899254306e-05 \n"
     ]
    }
   ],
   "source": [
    "print(\"Infinity norm of u1-u5: {0} \".format(np.max(np.abs(u1-u5))))"
   ]
  },
  {
   "cell_type": "markdown",
   "metadata": {},
   "source": [
    "### 6.- Numba Paralelization"
   ]
  },
  {
   "cell_type": "code",
   "execution_count": 28,
   "metadata": {},
   "outputs": [],
   "source": [
    "@numba.jit(nopython=True, parallel=True)\n",
    "def gm_eval_thread_numba(c, sig, xc, yc, xe, ye, \n",
    "                neigh_indexes, neigh_indexes_aux):\n",
    "    m = len(xe)\n",
    "    n = len(xc)\n",
    "    ret = np.zeros(m)\n",
    "    for i in prange(m):\n",
    "        if i==0: sind = 0\n",
    "        else:    sind = neigh_indexes_aux[i-1]\n",
    "        eind = neigh_indexes_aux[i] # end index\n",
    "        for j in neigh_indexes[sind:eind]:\n",
    "            dist2 = (xe[i]-xc[j])**2 + (ye[i]-yc[j])**2\n",
    "            ret[i] += c[j] * exp( -0.5 * dist2 / sig[j]**2 )\n",
    "    return ret"
   ]
  },
  {
   "cell_type": "code",
   "execution_count": 29,
   "metadata": {},
   "outputs": [],
   "source": [
    "u6 = gm_eval_thread_numba(c, sig, xc, yc, xe, ye, neigh_indexes1, neigh_indexes_aux)"
   ]
  },
  {
   "cell_type": "code",
   "execution_count": 30,
   "metadata": {},
   "outputs": [
    {
     "name": "stdout",
     "output_type": "stream",
     "text": [
      "4.45 ms ± 148 µs per loop (mean ± std. dev. of 7 runs, 100 loops each)\n"
     ]
    }
   ],
   "source": [
    "tr6 = %timeit -o -n 100 gm_eval_thread_numba(c, sig, xc, yc, xe, ye, neigh_indexes1, neigh_indexes_aux)"
   ]
  },
  {
   "cell_type": "code",
   "execution_count": 31,
   "metadata": {},
   "outputs": [
    {
     "name": "stdout",
     "output_type": "stream",
     "text": [
      "Parallelization speedup: 2.162395671963385\n"
     ]
    }
   ],
   "source": [
    "print(\"Parallelization speedup: {0}\".format(tr2.average/tr6.average))"
   ]
  },
  {
   "cell_type": "code",
   "execution_count": 32,
   "metadata": {},
   "outputs": [
    {
     "name": "stdout",
     "output_type": "stream",
     "text": [
      "Total speedup: 11.896396906000481\n"
     ]
    }
   ],
   "source": [
    "print(\"Total speedup: {0}\".format(tr1.average/tr6.average))"
   ]
  },
  {
   "cell_type": "code",
   "execution_count": 33,
   "metadata": {},
   "outputs": [
    {
     "name": "stdout",
     "output_type": "stream",
     "text": [
      "Infinity norm of u1-u6: 1.1311722899254306e-05 \n"
     ]
    }
   ],
   "source": [
    "print(\"Infinity norm of u1-u6: {0} \".format(np.max(np.abs(u1-u6))))"
   ]
  },
  {
   "cell_type": "markdown",
   "metadata": {},
   "source": [
    "### 7.- Numba paralelization 2"
   ]
  },
  {
   "cell_type": "code",
   "execution_count": 34,
   "metadata": {},
   "outputs": [],
   "source": [
    "neigh_indexes2 = compute_neighbors2(mu_center, mu_eval, 5*np.max(sig))"
   ]
  },
  {
   "cell_type": "code",
   "execution_count": 35,
   "metadata": {},
   "outputs": [],
   "source": [
    "@numba.jit(nopython=True, parallel=True)\n",
    "def gm_eval_thread_numba2(c, sig, xc, yc, xe, ye, neigh_indexes):\n",
    "    m = len(xe)\n",
    "    ret = np.zeros(m)\n",
    "    for i in prange(m):\n",
    "        for j in neigh_indexes[i,:]:\n",
    "            if j==-1: break\n",
    "            dist2 = (xe[i]-xc[j])**2 + (ye[i]-yc[j])**2\n",
    "            ret[i] += c[j] * exp( -0.5 * dist2 / sig[j]**2 )\n",
    "    return ret"
   ]
  },
  {
   "cell_type": "code",
   "execution_count": 36,
   "metadata": {},
   "outputs": [],
   "source": [
    "u7 = gm_eval_thread_numba2(c, sig, xc, yc, xe, ye, neigh_indexes2)"
   ]
  },
  {
   "cell_type": "code",
   "execution_count": 37,
   "metadata": {},
   "outputs": [
    {
     "name": "stdout",
     "output_type": "stream",
     "text": [
      "4.38 ms ± 57.2 µs per loop (mean ± std. dev. of 7 runs, 100 loops each)\n"
     ]
    }
   ],
   "source": [
    "tr7 = %timeit -o -n 100 gm_eval_thread_numba2(c, sig, xc, yc, xe, ye, neigh_indexes2)"
   ]
  },
  {
   "cell_type": "code",
   "execution_count": 38,
   "metadata": {},
   "outputs": [
    {
     "name": "stdout",
     "output_type": "stream",
     "text": [
      "Parallelization speedup: 2.1966928104964265\n"
     ]
    }
   ],
   "source": [
    "print(\"Parallelization speedup: {0}\".format(tr2.average/tr7.average))"
   ]
  },
  {
   "cell_type": "code",
   "execution_count": 39,
   "metadata": {},
   "outputs": [
    {
     "name": "stdout",
     "output_type": "stream",
     "text": [
      "Total speedup: 12.085082250694443\n"
     ]
    }
   ],
   "source": [
    "print(\"Total speedup: {0}\".format(tr1.average/tr7.average))"
   ]
  },
  {
   "cell_type": "code",
   "execution_count": 40,
   "metadata": {},
   "outputs": [
    {
     "name": "stdout",
     "output_type": "stream",
     "text": [
      "Infinity norm of u1-u6: 1.1311722899254306e-05 \n"
     ]
    }
   ],
   "source": [
    "print(\"Infinity norm of u1-u6: {0} \".format(np.max(np.abs(u1-u7))))"
   ]
  },
  {
   "cell_type": "markdown",
   "metadata": {},
   "source": [
    "### 8.- Cython Paralelization 1"
   ]
  },
  {
   "cell_type": "code",
   "execution_count": 41,
   "metadata": {},
   "outputs": [],
   "source": [
    "%%cython --compile-args=-O3 --compile-args=-ffast-math --compile-args=-march=native --compile-args=-fopenmp --link-args=-fopenmp\n",
    "#cython: boundscheck=False, wraparound=False, nonecheck=False, cdivision=True \n",
    "import numpy as np\n",
    "from libc.math cimport exp\n",
    "from cython.parallel import prange\n",
    "\n",
    "def gm_eval_thread_cython(double[:] c, double[:] sig, double[:] xc, double[:] yc, double[:] xe,\n",
    "                 double[:] ye, long[:] neigh_indexes, long[:] neigh_indexes_aux):\n",
    "    cdef int m = xe.shape[0]\n",
    "    cdef int i,j,sind,eind\n",
    "    cdef double dist2\n",
    "    cdef double[:] ret = np.zeros(m)\n",
    "    \n",
    "    for i in prange(m, nogil=True):\n",
    "        if i==0: sind = 0\n",
    "        else: sind = neigh_indexes_aux[i-1]\n",
    "        eind = neigh_indexes_aux[i]\n",
    "        for j in range(sind,eind):\n",
    "            j = neigh_indexes[j]\n",
    "            dist2 = (xe[i]-xc[j])**2 + (ye[i]-yc[j])**2\n",
    "            ret[i] += c[j] * exp( -0.5 * dist2 / sig[j]**2 )\n",
    "    return ret.base"
   ]
  },
  {
   "cell_type": "code",
   "execution_count": 43,
   "metadata": {},
   "outputs": [],
   "source": [
    "u8 = gm_eval_thread_cython(c, sig, xc, yc, xe, ye, neigh_indexes1, neigh_indexes_aux)"
   ]
  },
  {
   "cell_type": "code",
   "execution_count": 53,
   "metadata": {},
   "outputs": [
    {
     "name": "stdout",
     "output_type": "stream",
     "text": [
      "2.23 ms ± 25.4 µs per loop (mean ± std. dev. of 7 runs, 1000 loops each)\n"
     ]
    }
   ],
   "source": [
    "tr8 = %timeit -o -n 1000 gm_eval_thread_cython(c, sig, xc, yc, xe, ye, neigh_indexes1, neigh_indexes_aux)"
   ]
  },
  {
   "cell_type": "code",
   "execution_count": 67,
   "metadata": {},
   "outputs": [
    {
     "name": "stdout",
     "output_type": "stream",
     "text": [
      "Parallelization speedup: 4.317682588872816\n"
     ]
    }
   ],
   "source": [
    "print(\"Parallelization speedup: {0}\".format(tr2.average/tr8.average))"
   ]
  },
  {
   "cell_type": "code",
   "execution_count": 68,
   "metadata": {},
   "outputs": [
    {
     "name": "stdout",
     "output_type": "stream",
     "text": [
      "Total speedup: 23.753685071299223\n"
     ]
    }
   ],
   "source": [
    "print(\"Total speedup: {0}\".format(tr1.average/tr8.average))"
   ]
  },
  {
   "cell_type": "code",
   "execution_count": 69,
   "metadata": {},
   "outputs": [
    {
     "name": "stdout",
     "output_type": "stream",
     "text": [
      "Infinity norm of u1-u8: 1.1311722899254306e-05 \n"
     ]
    }
   ],
   "source": [
    "print(\"Infinity norm of u1-u8: {0} \".format(np.max(np.abs(u1-u8))))"
   ]
  },
  {
   "cell_type": "markdown",
   "metadata": {},
   "source": [
    "### 9.- Cython Paralelization 2"
   ]
  },
  {
   "cell_type": "code",
   "execution_count": 49,
   "metadata": {},
   "outputs": [],
   "source": [
    "%%cython --compile-args=-O3 --compile-args=-ffast-math --compile-args=-march=native --compile-args=-fopenmp --link-args=-fopenmp\n",
    "#cython: boundscheck=False, wraparound=False, nonecheck=False, cdivision=True \n",
    "import numpy as np\n",
    "from libc.math cimport exp\n",
    "from cython.parallel import prange\n",
    "\n",
    "def gm_eval_thread_cython2(double[:] c, double[:] sig, double[:] xc, double[:] yc, double[:] xe,\n",
    "                 double[:] ye, long[:,:] neigh_indexes):\n",
    "    cdef int m = neigh_indexes.shape[0]\n",
    "    cdef int n = neigh_indexes.shape[1]\n",
    "    cdef int i,j\n",
    "    cdef double dist2 = 0\n",
    "    cdef double[:] ret = np.zeros(m)\n",
    "    \n",
    "    for i in prange(m, nogil=True):\n",
    "        for j in range(n):\n",
    "            j = neigh_indexes[i,j]\n",
    "            if j==-1: break\n",
    "            dist2 = (xe[i]-xc[j])**2 + (ye[i]-yc[j])**2 \n",
    "            ret[i] += c[j] * exp( -0.5 * dist2 / sig[j]**2 )\n",
    "    return ret.base"
   ]
  },
  {
   "cell_type": "code",
   "execution_count": 50,
   "metadata": {},
   "outputs": [],
   "source": [
    "u9 = gm_eval_thread_cython2(c, sig, xc, yc, xe, ye, neigh_indexes2)"
   ]
  },
  {
   "cell_type": "code",
   "execution_count": 54,
   "metadata": {},
   "outputs": [
    {
     "name": "stdout",
     "output_type": "stream",
     "text": [
      "2.23 ms ± 25.1 µs per loop (mean ± std. dev. of 7 runs, 1000 loops each)\n"
     ]
    }
   ],
   "source": [
    "tr9 = %timeit -o -n 1000 gm_eval_thread_cython2(c, sig, xc, yc, xe, ye, neigh_indexes2)"
   ]
  },
  {
   "cell_type": "code",
   "execution_count": 64,
   "metadata": {},
   "outputs": [
    {
     "name": "stdout",
     "output_type": "stream",
     "text": [
      "Parallelization speedup: 4.320394002808339\n"
     ]
    }
   ],
   "source": [
    "print(\"Parallelization speedup: {0}\".format(tr2.average/tr9.average))"
   ]
  },
  {
   "cell_type": "code",
   "execution_count": 65,
   "metadata": {},
   "outputs": [
    {
     "name": "stdout",
     "output_type": "stream",
     "text": [
      "Total speedup: 23.768601886372274\n"
     ]
    }
   ],
   "source": [
    "print(\"Total speedup: {0}\".format(tr1.average/tr9.average))"
   ]
  },
  {
   "cell_type": "code",
   "execution_count": 66,
   "metadata": {},
   "outputs": [
    {
     "name": "stdout",
     "output_type": "stream",
     "text": [
      "Infinity norm of u1-u9: 1.1311722899254306e-05 \n"
     ]
    }
   ],
   "source": [
    "print(\"Infinity norm of u1-u9: {0} \".format(np.max(np.abs(u1-u9))))"
   ]
  },
  {
   "cell_type": "markdown",
   "metadata": {},
   "source": []
  },
  {
   "cell_type": "markdown",
   "metadata": {},
   "source": [
    "***\n",
    "## Time comparison"
   ]
  },
  {
   "cell_type": "code",
   "execution_count": null,
   "metadata": {},
   "outputs": [],
   "source": [
    "times1 = []\n",
    "times2 = []\n",
    "times3 = []\n",
    "n_points = list(range(250, 10001, 250))\n",
    "\n",
    "for Nc in n_points:\n",
    "    # points generation\n",
    "    Ne = 2*Nc\n",
    "    mu_center = np.random.random((Nc,2))\n",
    "    mu_eval = np.random.random((Ne,2))\n",
    "    c = 0.25*np.random.random(Nc)\n",
    "    sig = np.ones(Nc)*0.05\n",
    "    xc = mu_center[:,0]\n",
    "    yc = mu_center[:,1]\n",
    "    xe = mu_eval[:,0]\n",
    "    ye = mu_eval[:,1]\n",
    "    neigh_indexes,neigh_indexes_aux = compute_neighbors(mu_center, mu_eval, 5*np.max(sig))\n",
    "    \n",
    "    # evaluating performance of direct evaluation (naive)\n",
    "    tr1 = %timeit -o -n 10 -q gm_eval(c, sig, xc, yc, xe, ye)\n",
    "    times1.append(tr1.average)\n",
    "    \n",
    "    # evaluating performance of Gaussian truncation\n",
    "    tr2 = %timeit -o -n 10 -q gm_eval_fast(c,sig,xc,yc,xe,ye,neigh_indexes,neigh_indexes_aux)\n",
    "    times2.append(tr2.average)\n",
    "    \n",
    "    # evaluating performance of Gaussian truncation + paralelization\n",
    "    tr3 = %timeit -o -n 10 -q gm_eval_thread_cython(c, sig, xc, yc, xe, ye, neigh_indexes, neigh_indexes_aux)\n",
    "    times3.append(tr3.average)"
   ]
  },
  {
   "cell_type": "code",
   "execution_count": 28,
   "metadata": {},
   "outputs": [
    {
     "data": {
      "image/png": "[encoded data removed]",
      "text/plain": [
       "<Figure size 720x432 with 1 Axes>"
      ]
     },
     "metadata": {},
     "output_type": "display_data"
    }
   ],
   "source": [
    "plt.figure(figsize=(10,6))\n",
    "plt.plot(n_points, times1, \"o--\", label=\"naive\")\n",
    "plt.plot(n_points, times2, \"o--\", label=\"truncation\")\n",
    "plt.plot(n_points, times3, \"o--\", label=\"naive + paralel\")\n",
    "plt.grid()\n",
    "plt.legend(loc=\"best\")\n",
    "plt.xlabel(\"number of centers\")\n",
    "plt.ylabel(\"ms\")\n",
    "plt.show()"
   ]
  },
  {
   "cell_type": "code",
   "execution_count": 29,
   "metadata": {},
   "outputs": [
    {
     "data": {
      "image/png": "[encoded data removed]",
      "text/plain": [
       "<Figure size 720x432 with 1 Axes>"
      ]
     },
     "metadata": {},
     "output_type": "display_data"
    }
   ],
   "source": [
    "plt.figure(figsize=(10,6))\n",
    "plt.plot(n_points, times2, \"o--\", label=\"truncation\")\n",
    "plt.plot(n_points, times3, \"o--\", label=\"naive + paralel\")\n",
    "plt.plot(n_points, times4, \"o--\", label=\"truncation + paralel\")\n",
    "plt.grid()\n",
    "plt.legend(loc=\"best\")\n",
    "plt.xlabel(\"number of centers\")\n",
    "plt.ylabel(\"ms\")\n",
    "plt.show()"
   ]
  },
  {
   "cell_type": "code",
   "execution_count": 30,
   "metadata": {},
   "outputs": [
    {
     "data": {
      "image/png": "[encoded data removed]",
      "text/plain": [
       "<Figure size 720x432 with 1 Axes>"
      ]
     },
     "metadata": {},
     "output_type": "display_data"
    }
   ],
   "source": [
    "plt.figure(figsize=(10,6))\n",
    "plt.plot(n_points, times2, \"o--\", label=\"truncation\")\n",
    "plt.plot(n_points, times4, \"o--\", label=\"truncation + paralel\")\n",
    "plt.grid()\n",
    "plt.legend(loc=\"best\")\n",
    "plt.xlabel(\"number of centers\")\n",
    "plt.ylabel(\"ms\")\n",
    "plt.show()"
   ]
  },
  {
   "cell_type": "code",
   "execution_count": null,
   "metadata": {},
   "outputs": [],
   "source": []
  }
 ],
 "metadata": {
  "kernelspec": {
   "display_name": "Python 3",
   "language": "python",
   "name": "python3"
  },
  "language_info": {
   "codemirror_mode": {
    "name": "ipython",
    "version": 3
   },
   "file_extension": ".py",
   "mimetype": "text/x-python",
   "name": "python",
   "nbconvert_exporter": "python",
   "pygments_lexer": "ipython3",
   "version": "3.6.5"
  }
 },
 "nbformat": 4,
 "nbformat_minor": 2
}
