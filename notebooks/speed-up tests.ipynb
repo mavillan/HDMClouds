{
 "cells": [
  {
   "cell_type": "code",
   "execution_count": 1,
   "metadata": {},
   "outputs": [],
   "source": [
    "import numba\n",
    "import numpy as np\n",
    "from math import exp\n",
    "from pyfigtree import figtree\n",
    "\n",
    "import matplotlib.pyplot as plt"
   ]
  },
  {
   "cell_type": "code",
   "execution_count": 2,
   "metadata": {},
   "outputs": [],
   "source": [
    "# example problem\n",
    "np.random.seed(0)\n",
    "Nc = 1000\n",
    "Ne = 2*Nc\n",
    "\n",
    "source_points = np.random.random((Nc,2))\n",
    "target_points = np.random.random((Ne,2))\n",
    "c = np.random.random(Nc)\n",
    "sig = np.ones(Nc)*0.05\n",
    "\n",
    "xc = source_points[:,0]\n",
    "yc = source_points[:,1]\n",
    "xe = target_points[:,0]\n",
    "ye = target_points[:,1]"
   ]
  },
  {
   "cell_type": "markdown",
   "metadata": {},
   "source": [
    "## Direct approach"
   ]
  },
  {
   "cell_type": "code",
   "execution_count": 3,
   "metadata": {},
   "outputs": [],
   "source": [
    "@numba.jit(nopython=True)\n",
    "def u_eval(c, sig, xc, yc, xe, ye, support=5):\n",
    "    m = len(xe)\n",
    "    n = len(xc)\n",
    "    ret = np.zeros(m)\n",
    "    for i in range(m):\n",
    "        for j in range(n):\n",
    "            dist2 = (xe[i]-xc[j])**2 + (ye[i]-yc[j])**2\n",
    "            #if  dist2 > support**2 * sig[j]**2: continue\n",
    "            ret[i] += c[j] * exp(-dist2 / sig[j]**2 )\n",
    "    return ret"
   ]
  },
  {
   "cell_type": "code",
   "execution_count": 5,
   "metadata": {},
   "outputs": [],
   "source": [
    "u1 = u_eval(c, sig, xc, yc, xe, ye)"
   ]
  },
  {
   "cell_type": "code",
   "execution_count": 6,
   "metadata": {
    "scrolled": false
   },
   "outputs": [
    {
     "name": "stdout",
     "output_type": "stream",
     "text": [
      "32.6 ms ± 2.56 ms per loop (mean ± std. dev. of 7 runs, 100 loops each)\n"
     ]
    }
   ],
   "source": [
    "%timeit -n 100 u_eval(c, sig, xc, yc, xe, ye)"
   ]
  },
  {
   "cell_type": "markdown",
   "metadata": {},
   "source": [
    "## Threading approach"
   ]
  },
  {
   "cell_type": "code",
   "execution_count": 11,
   "metadata": {},
   "outputs": [],
   "source": [
    "from threading import Thread"
   ]
  },
  {
   "cell_type": "code",
   "execution_count": 12,
   "metadata": {},
   "outputs": [],
   "source": [
    "@numba.jit(nopython=True, nogil=True)\n",
    "def _u_eval_thread(c, sig, xc, yc, xe, ye, sind, chunk_size, res, support=5):\n",
    "    n = len(xc)\n",
    "    for i in range(sind,sind+chunk_size):\n",
    "        for j in range(n):\n",
    "            dist2 = (xe[i]-xc[j])**2 + (ye[i]-yc[j])**2\n",
    "            if  dist2 > support**2 * sig[j]**2: continue\n",
    "            res[i] += c[j] * exp( -0.5 * dist2 / sig[j]**2 )\n",
    "            \n",
    "def u_eval_thread(c, sig, xc, yc, xe, ye, n_thread=4):\n",
    "    # array for results\n",
    "    Ne = len(xe)\n",
    "    res = np.zeros(Ne)\n",
    "    \n",
    "    # data size for each thread\n",
    "    chunk_size = Ne // n_thread\n",
    "    \n",
    "    # starting index for each thread\n",
    "    start_indexes = [i * chunk_size for i in range(n_thread)]\n",
    "    \n",
    "    threads = [Thread(target=_u_eval_thread, \n",
    "                  args=(c,sig,xc,yc,xe,ye,sind,chunk_size,res)) for sind in start_indexes]\n",
    "    for thread in threads: thread.start()\n",
    "    for thread in threads: thread.join()\n",
    "        \n",
    "    return res"
   ]
  },
  {
   "cell_type": "code",
   "execution_count": 13,
   "metadata": {},
   "outputs": [],
   "source": [
    " u2 = u_eval_thread(c, sig, xc, yc, xe, ye, n_thread=2)"
   ]
  },
  {
   "cell_type": "code",
   "execution_count": 14,
   "metadata": {},
   "outputs": [
    {
     "name": "stdout",
     "output_type": "stream",
     "text": [
      "8.8 ms ± 796 µs per loop (mean ± std. dev. of 7 runs, 100 loops each)\n"
     ]
    }
   ],
   "source": [
    "%timeit -n 100 u_eval_thread(c, sig, xc, yc, xe, ye, n_thread=2)"
   ]
  },
  {
   "cell_type": "markdown",
   "metadata": {},
   "source": [
    "## `figtree` approach"
   ]
  },
  {
   "cell_type": "code",
   "execution_count": 4,
   "metadata": {},
   "outputs": [],
   "source": [
    "def u_eval_figtree(w, sig, xc, yc, xe, ye, epsilon=1e-10):\n",
    "    centers = np.vstack([xc,yc]).T\n",
    "    targets = np.vstack([xe,ye]).T\n",
    "    ret = figtree(centers, targets, w, bandwidth=sig, epsilon=epsilon)\n",
    "    return ret"
   ]
  },
  {
   "cell_type": "code",
   "execution_count": 17,
   "metadata": {},
   "outputs": [
    {
     "name": "stdout",
     "output_type": "stream",
     "text": [
      "699 ms ± 18.5 ms per loop (mean ± std. dev. of 7 runs, 5 loops each)\n"
     ]
    }
   ],
   "source": [
    "tr = %timeit -o -n 5 figtree(source_points, target_points, c, bandwidth=0.05, epsilon=1e-10)"
   ]
  },
  {
   "cell_type": "code",
   "execution_count": 18,
   "metadata": {},
   "outputs": [],
   "source": [
    "target_evaluation = figtree(source_points, target_points, c, bandwidth=0.05, epsilon=1e-10)"
   ]
  },
  {
   "cell_type": "code",
   "execution_count": 19,
   "metadata": {},
   "outputs": [
    {
     "name": "stdout",
     "output_type": "stream",
     "text": [
      "Difference between direct and figtree evaluation: 2.8842173094290047e-09\n"
     ]
    }
   ],
   "source": [
    "print(\"Difference between direct and figtree evaluation:\", \n",
    "     np.max(np.abs(direct_evaluation-target_evaluation)))"
   ]
  },
  {
   "cell_type": "markdown",
   "metadata": {},
   "source": [
    "## Times comparison"
   ]
  },
  {
   "cell_type": "code",
   "execution_count": 100,
   "metadata": {},
   "outputs": [
    {
     "name": "stdout",
     "output_type": "stream",
     "text": [
      "Direct evaluation with N=250\n",
      "5.61 ms ± 738 µs per loop (mean ± std. dev. of 7 runs, 5 loops each)\n",
      "\n",
      "\n",
      "Figtree evaluation with N=250\n",
      "3.76 ms ± 404 µs per loop (mean ± std. dev. of 7 runs, 5 loops each)\n",
      "\n",
      "\n",
      "Direct evaluation with N=500\n",
      "18.8 ms ± 1.29 ms per loop (mean ± std. dev. of 7 runs, 5 loops each)\n",
      "\n",
      "\n",
      "Figtree evaluation with N=500\n",
      "10.7 ms ± 519 µs per loop (mean ± std. dev. of 7 runs, 5 loops each)\n",
      "\n",
      "\n",
      "Direct evaluation with N=750\n",
      "41.7 ms ± 1.76 ms per loop (mean ± std. dev. of 7 runs, 5 loops each)\n",
      "\n",
      "\n",
      "Figtree evaluation with N=750\n",
      "22 ms ± 820 µs per loop (mean ± std. dev. of 7 runs, 5 loops each)\n",
      "\n",
      "\n",
      "Direct evaluation with N=1000\n",
      "74.6 ms ± 2.01 ms per loop (mean ± std. dev. of 7 runs, 5 loops each)\n",
      "\n",
      "\n",
      "Figtree evaluation with N=1000\n",
      "42.1 ms ± 2.45 ms per loop (mean ± std. dev. of 7 runs, 5 loops each)\n",
      "\n",
      "\n",
      "Direct evaluation with N=1250\n",
      "122 ms ± 2.82 ms per loop (mean ± std. dev. of 7 runs, 5 loops each)\n",
      "\n",
      "\n",
      "Figtree evaluation with N=1250\n",
      "56.6 ms ± 2.38 ms per loop (mean ± std. dev. of 7 runs, 5 loops each)\n",
      "\n",
      "\n",
      "Direct evaluation with N=1500\n",
      "164 ms ± 3.37 ms per loop (mean ± std. dev. of 7 runs, 5 loops each)\n",
      "\n",
      "\n",
      "Figtree evaluation with N=1500\n",
      "79.2 ms ± 1.88 ms per loop (mean ± std. dev. of 7 runs, 5 loops each)\n",
      "\n",
      "\n",
      "Direct evaluation with N=1750\n",
      "221 ms ± 2.8 ms per loop (mean ± std. dev. of 7 runs, 5 loops each)\n",
      "\n",
      "\n",
      "Figtree evaluation with N=1750\n",
      "107 ms ± 1.94 ms per loop (mean ± std. dev. of 7 runs, 5 loops each)\n",
      "\n",
      "\n",
      "Direct evaluation with N=2000\n",
      "290 ms ± 6.94 ms per loop (mean ± std. dev. of 7 runs, 5 loops each)\n",
      "\n",
      "\n",
      "Figtree evaluation with N=2000\n",
      "135 ms ± 2.78 ms per loop (mean ± std. dev. of 7 runs, 5 loops each)\n",
      "\n",
      "\n",
      "Direct evaluation with N=2250\n",
      "370 ms ± 15.9 ms per loop (mean ± std. dev. of 7 runs, 5 loops each)\n",
      "\n",
      "\n",
      "Figtree evaluation with N=2250\n",
      "184 ms ± 11.3 ms per loop (mean ± std. dev. of 7 runs, 5 loops each)\n",
      "\n",
      "\n",
      "Direct evaluation with N=2500\n",
      "475 ms ± 9.49 ms per loop (mean ± std. dev. of 7 runs, 5 loops each)\n",
      "\n",
      "\n",
      "Figtree evaluation with N=2500\n",
      "209 ms ± 2.72 ms per loop (mean ± std. dev. of 7 runs, 5 loops each)\n",
      "\n",
      "\n",
      "Direct evaluation with N=2750\n",
      "581 ms ± 17.8 ms per loop (mean ± std. dev. of 7 runs, 5 loops each)\n",
      "\n",
      "\n",
      "Figtree evaluation with N=2750\n",
      "270 ms ± 20 ms per loop (mean ± std. dev. of 7 runs, 5 loops each)\n",
      "\n",
      "\n",
      "Direct evaluation with N=3000\n",
      "684 ms ± 16.2 ms per loop (mean ± std. dev. of 7 runs, 5 loops each)\n",
      "\n",
      "\n",
      "Figtree evaluation with N=3000\n",
      "318 ms ± 9.42 ms per loop (mean ± std. dev. of 7 runs, 5 loops each)\n",
      "\n",
      "\n",
      "Direct evaluation with N=3250\n",
      "797 ms ± 34.7 ms per loop (mean ± std. dev. of 7 runs, 5 loops each)\n",
      "\n",
      "\n",
      "Figtree evaluation with N=3250\n",
      "353 ms ± 5.19 ms per loop (mean ± std. dev. of 7 runs, 5 loops each)\n",
      "\n",
      "\n",
      "Direct evaluation with N=3500\n",
      "920 ms ± 21.9 ms per loop (mean ± std. dev. of 7 runs, 5 loops each)\n",
      "\n",
      "\n",
      "Figtree evaluation with N=3500\n",
      "449 ms ± 20.9 ms per loop (mean ± std. dev. of 7 runs, 5 loops each)\n",
      "\n",
      "\n",
      "Direct evaluation with N=3750\n",
      "1.06 s ± 40.2 ms per loop (mean ± std. dev. of 7 runs, 5 loops each)\n",
      "\n",
      "\n",
      "Figtree evaluation with N=3750\n",
      "469 ms ± 5.5 ms per loop (mean ± std. dev. of 7 runs, 5 loops each)\n",
      "\n",
      "\n",
      "Direct evaluation with N=4000\n",
      "1.16 s ± 22.3 ms per loop (mean ± std. dev. of 7 runs, 5 loops each)\n",
      "\n",
      "\n",
      "Figtree evaluation with N=4000\n",
      "583 ms ± 21.3 ms per loop (mean ± std. dev. of 7 runs, 5 loops each)\n",
      "\n",
      "\n",
      "Direct evaluation with N=4250\n",
      "1.32 s ± 32.7 ms per loop (mean ± std. dev. of 7 runs, 5 loops each)\n",
      "\n",
      "\n",
      "Figtree evaluation with N=4250\n",
      "603 ms ± 16.6 ms per loop (mean ± std. dev. of 7 runs, 5 loops each)\n",
      "\n",
      "\n",
      "Direct evaluation with N=4500\n",
      "1.46 s ± 7.68 ms per loop (mean ± std. dev. of 7 runs, 5 loops each)\n",
      "\n",
      "\n",
      "Figtree evaluation with N=4500\n",
      "672 ms ± 10.2 ms per loop (mean ± std. dev. of 7 runs, 5 loops each)\n",
      "\n",
      "\n",
      "Direct evaluation with N=4750\n",
      "1.67 s ± 26.9 ms per loop (mean ± std. dev. of 7 runs, 5 loops each)\n",
      "\n",
      "\n",
      "Figtree evaluation with N=4750\n",
      "809 ms ± 40.9 ms per loop (mean ± std. dev. of 7 runs, 5 loops each)\n",
      "\n",
      "\n",
      "Direct evaluation with N=5000\n",
      "1.93 s ± 89.2 ms per loop (mean ± std. dev. of 7 runs, 5 loops each)\n",
      "\n",
      "\n",
      "Figtree evaluation with N=5000\n",
      "926 ms ± 33.8 ms per loop (mean ± std. dev. of 7 runs, 5 loops each)\n",
      "\n",
      "\n",
      "Direct evaluation with N=5250\n",
      "2.26 s ± 138 ms per loop (mean ± std. dev. of 7 runs, 5 loops each)\n",
      "\n",
      "\n",
      "Figtree evaluation with N=5250\n",
      "1.01 s ± 8.05 ms per loop (mean ± std. dev. of 7 runs, 5 loops each)\n",
      "\n",
      "\n",
      "Direct evaluation with N=5500\n",
      "2.47 s ± 149 ms per loop (mean ± std. dev. of 7 runs, 5 loops each)\n",
      "\n",
      "\n",
      "Figtree evaluation with N=5500\n",
      "1.15 s ± 18.2 ms per loop (mean ± std. dev. of 7 runs, 5 loops each)\n",
      "\n",
      "\n",
      "Direct evaluation with N=5750\n",
      "2.62 s ± 22.6 ms per loop (mean ± std. dev. of 7 runs, 5 loops each)\n",
      "\n",
      "\n",
      "Figtree evaluation with N=5750\n",
      "1.23 s ± 72.3 ms per loop (mean ± std. dev. of 7 runs, 5 loops each)\n",
      "\n",
      "\n",
      "Direct evaluation with N=6000\n",
      "2.69 s ± 42.3 ms per loop (mean ± std. dev. of 7 runs, 5 loops each)\n",
      "\n",
      "\n",
      "Figtree evaluation with N=6000\n",
      "1.34 s ± 76.8 ms per loop (mean ± std. dev. of 7 runs, 5 loops each)\n",
      "\n",
      "\n",
      "Direct evaluation with N=6250\n",
      "2.94 s ± 100 ms per loop (mean ± std. dev. of 7 runs, 5 loops each)\n",
      "\n",
      "\n",
      "Figtree evaluation with N=6250\n",
      "1.29 s ± 9.25 ms per loop (mean ± std. dev. of 7 runs, 5 loops each)\n",
      "\n",
      "\n",
      "Direct evaluation with N=6500\n",
      "3.15 s ± 92.7 ms per loop (mean ± std. dev. of 7 runs, 5 loops each)\n",
      "\n",
      "\n",
      "Figtree evaluation with N=6500\n",
      "1.52 s ± 50.1 ms per loop (mean ± std. dev. of 7 runs, 5 loops each)\n",
      "\n",
      "\n",
      "Direct evaluation with N=6750\n",
      "3.72 s ± 284 ms per loop (mean ± std. dev. of 7 runs, 5 loops each)\n",
      "\n",
      "\n",
      "Figtree evaluation with N=6750\n",
      "1.76 s ± 92.9 ms per loop (mean ± std. dev. of 7 runs, 5 loops each)\n",
      "\n",
      "\n",
      "Direct evaluation with N=7000\n",
      "3.72 s ± 105 ms per loop (mean ± std. dev. of 7 runs, 5 loops each)\n",
      "\n",
      "\n",
      "Figtree evaluation with N=7000\n",
      "1.74 s ± 40.9 ms per loop (mean ± std. dev. of 7 runs, 5 loops each)\n",
      "\n",
      "\n",
      "Direct evaluation with N=7250\n",
      "4.01 s ± 62.8 ms per loop (mean ± std. dev. of 7 runs, 5 loops each)\n",
      "\n",
      "\n",
      "Figtree evaluation with N=7250\n",
      "1.82 s ± 28.1 ms per loop (mean ± std. dev. of 7 runs, 5 loops each)\n",
      "\n",
      "\n",
      "Direct evaluation with N=7500\n",
      "4.26 s ± 53.1 ms per loop (mean ± std. dev. of 7 runs, 5 loops each)\n",
      "\n",
      "\n",
      "Figtree evaluation with N=7500\n",
      "2.01 s ± 78.9 ms per loop (mean ± std. dev. of 7 runs, 5 loops each)\n",
      "\n",
      "\n",
      "Direct evaluation with N=7750\n",
      "4.55 s ± 51.7 ms per loop (mean ± std. dev. of 7 runs, 5 loops each)\n",
      "\n",
      "\n",
      "Figtree evaluation with N=7750\n",
      "2.22 s ± 154 ms per loop (mean ± std. dev. of 7 runs, 5 loops each)\n",
      "\n",
      "\n",
      "Direct evaluation with N=8000\n",
      "4.93 s ± 188 ms per loop (mean ± std. dev. of 7 runs, 5 loops each)\n",
      "\n",
      "\n",
      "Figtree evaluation with N=8000\n",
      "2.15 s ± 16.7 ms per loop (mean ± std. dev. of 7 runs, 5 loops each)\n",
      "\n",
      "\n",
      "Direct evaluation with N=8250\n",
      "5.39 s ± 196 ms per loop (mean ± std. dev. of 7 runs, 5 loops each)\n",
      "\n",
      "\n",
      "Figtree evaluation with N=8250\n",
      "2.43 s ± 167 ms per loop (mean ± std. dev. of 7 runs, 5 loops each)\n",
      "\n",
      "\n",
      "Direct evaluation with N=8500\n",
      "5.51 s ± 177 ms per loop (mean ± std. dev. of 7 runs, 5 loops each)\n",
      "\n",
      "\n",
      "Figtree evaluation with N=8500\n",
      "3.1 s ± 239 ms per loop (mean ± std. dev. of 7 runs, 5 loops each)\n",
      "\n",
      "\n",
      "Direct evaluation with N=8750\n",
      "6.22 s ± 485 ms per loop (mean ± std. dev. of 7 runs, 5 loops each)\n",
      "\n",
      "\n",
      "Figtree evaluation with N=8750\n",
      "2.55 s ± 21.2 ms per loop (mean ± std. dev. of 7 runs, 5 loops each)\n",
      "\n",
      "\n",
      "Direct evaluation with N=9000\n",
      "6.55 s ± 367 ms per loop (mean ± std. dev. of 7 runs, 5 loops each)\n",
      "\n",
      "\n",
      "Figtree evaluation with N=9000\n",
      "3.19 s ± 399 ms per loop (mean ± std. dev. of 7 runs, 5 loops each)\n",
      "\n",
      "\n",
      "Direct evaluation with N=9250\n",
      "6.44 s ± 166 ms per loop (mean ± std. dev. of 7 runs, 5 loops each)\n",
      "\n",
      "\n",
      "Figtree evaluation with N=9250\n",
      "2.83 s ± 78.5 ms per loop (mean ± std. dev. of 7 runs, 5 loops each)\n",
      "\n",
      "\n",
      "Direct evaluation with N=9500\n",
      "6.78 s ± 228 ms per loop (mean ± std. dev. of 7 runs, 5 loops each)\n",
      "\n",
      "\n",
      "Figtree evaluation with N=9500\n",
      "2.89 s ± 167 ms per loop (mean ± std. dev. of 7 runs, 5 loops each)\n",
      "\n",
      "\n",
      "Direct evaluation with N=9750\n",
      "7.02 s ± 106 ms per loop (mean ± std. dev. of 7 runs, 5 loops each)\n",
      "\n",
      "\n",
      "Figtree evaluation with N=9750\n",
      "3.05 s ± 200 ms per loop (mean ± std. dev. of 7 runs, 5 loops each)\n",
      "\n",
      "\n",
      "Direct evaluation with N=10000\n",
      "7.39 s ± 184 ms per loop (mean ± std. dev. of 7 runs, 5 loops each)\n",
      "\n",
      "\n",
      "Figtree evaluation with N=10000\n",
      "3.11 s ± 181 ms per loop (mean ± std. dev. of 7 runs, 5 loops each)\n",
      "\n",
      "\n"
     ]
    }
   ],
   "source": [
    "times_direct = []\n",
    "times_figtree = []\n",
    "n_points = list(range(250, 10001, 250))\n",
    "\n",
    "for Nc in n_points:\n",
    "    # points generation\n",
    "    Ne = 5*Nc\n",
    "    source_points = np.random.random((Nc,2))\n",
    "    target_points = np.random.random((Ne,2))\n",
    "    c = np.random.random(Nc)\n",
    "    sig = np.ones(Nc)*0.05\n",
    "    xc = source_points[:,0]\n",
    "    yc = source_points[:,1]\n",
    "    xe = target_points[:,0]\n",
    "    ye = target_points[:,1]\n",
    "    \n",
    "    # evaluating performance of direct evaluation\n",
    "    print(\"Direct evaluation with N={0}\".format(Nc))\n",
    "    tr1 = %timeit -o -n 5 u_eval(c, sig, xc, yc, xe, ye)\n",
    "    times_direct.append(tr1.average)\n",
    "    print(\"\\n\")\n",
    "    \n",
    "    # evaluating performance of figtree evaluation\n",
    "    print(\"Figtree evaluation with N={0}\".format(Nc))\n",
    "    tr2 = %timeit -o -n 5 figtree(source_points, target_points, c, bandwidth=0.05, epsilon=1e-10)\n",
    "    times_figtree.append(tr2.average)\n",
    "    print(\"\\n\")"
   ]
  },
  {
   "cell_type": "code",
   "execution_count": 101,
   "metadata": {},
   "outputs": [
    {
     "data": {
      "image/png": "[encoded data removed]",
      "text/plain": [
       "<Figure size 432x288 with 1 Axes>"
      ]
     },
     "metadata": {},
     "output_type": "display_data"
    }
   ],
   "source": [
    "plt.plot(n_points, times_direct, \"o--\", label=\"direct\")\n",
    "plt.plot(n_points, times_figtree, \"o--\", label=\"figtree\")\n",
    "plt.grid()\n",
    "plt.legend(loc=\"best\")\n",
    "plt.xlabel(\"N\")\n",
    "plt.ylabel(\"time [s]\")\n",
    "plt.show()"
   ]
  },
  {
   "cell_type": "markdown",
   "metadata": {},
   "source": [
    "## `time` vs $\\epsilon$ in `figtree` "
   ]
  },
  {
   "cell_type": "code",
   "execution_count": 98,
   "metadata": {
    "scrolled": true
   },
   "outputs": [
    {
     "name": "stdout",
     "output_type": "stream",
     "text": [
      "Figtree evaluation with N=5000\n",
      "9.64 ms ± 379 µs per loop (mean ± std. dev. of 7 runs, 10 loops each)\n",
      "\n",
      "\n",
      "Figtree evaluation with N=5000\n",
      "77.5 ms ± 1.66 ms per loop (mean ± std. dev. of 7 runs, 10 loops each)\n",
      "\n",
      "\n",
      "Figtree evaluation with N=5000\n",
      "134 ms ± 1.44 ms per loop (mean ± std. dev. of 7 runs, 10 loops each)\n",
      "\n",
      "\n",
      "Figtree evaluation with N=5000\n",
      "209 ms ± 12 ms per loop (mean ± std. dev. of 7 runs, 10 loops each)\n",
      "\n",
      "\n",
      "Figtree evaluation with N=5000\n",
      "319 ms ± 37.5 ms per loop (mean ± std. dev. of 7 runs, 10 loops each)\n",
      "\n",
      "\n",
      "Figtree evaluation with N=5000\n",
      "383 ms ± 9.2 ms per loop (mean ± std. dev. of 7 runs, 10 loops each)\n",
      "\n",
      "\n",
      "Figtree evaluation with N=5000\n",
      "558 ms ± 14 ms per loop (mean ± std. dev. of 7 runs, 10 loops each)\n",
      "\n",
      "\n",
      "Figtree evaluation with N=5000\n",
      "736 ms ± 91 ms per loop (mean ± std. dev. of 7 runs, 10 loops each)\n",
      "\n",
      "\n",
      "Figtree evaluation with N=5000\n",
      "788 ms ± 10.2 ms per loop (mean ± std. dev. of 7 runs, 10 loops each)\n",
      "\n",
      "\n",
      "Figtree evaluation with N=5000\n",
      "866 ms ± 17.7 ms per loop (mean ± std. dev. of 7 runs, 10 loops each)\n",
      "\n",
      "\n",
      "Figtree evaluation with N=5000\n",
      "1.12 s ± 207 ms per loop (mean ± std. dev. of 7 runs, 10 loops each)\n",
      "\n",
      "\n",
      "Figtree evaluation with N=5000\n",
      "1.12 s ± 187 ms per loop (mean ± std. dev. of 7 runs, 10 loops each)\n",
      "\n",
      "\n",
      "Figtree evaluation with N=5000\n",
      "1.01 s ± 30.3 ms per loop (mean ± std. dev. of 7 runs, 10 loops each)\n",
      "\n",
      "\n",
      "Figtree evaluation with N=5000\n",
      "1.06 s ± 43.8 ms per loop (mean ± std. dev. of 7 runs, 10 loops each)\n",
      "\n",
      "\n",
      "Figtree evaluation with N=5000\n",
      "1.09 s ± 11.4 ms per loop (mean ± std. dev. of 7 runs, 10 loops each)\n",
      "\n",
      "\n",
      "Figtree evaluation with N=5000\n",
      "1.21 s ± 81.7 ms per loop (mean ± std. dev. of 7 runs, 10 loops each)\n",
      "\n",
      "\n",
      "Figtree evaluation with N=5000\n",
      "1.23 s ± 35.8 ms per loop (mean ± std. dev. of 7 runs, 10 loops each)\n",
      "\n",
      "\n"
     ]
    }
   ],
   "source": [
    "epsilon_values = [10**(-x) for x in range(0,17)]\n",
    "times_figtree2 = []\n",
    "\n",
    "# points generation\n",
    "Nc = 5000\n",
    "Ne = 5*Nc\n",
    "source_points = np.random.random((Nc,2))\n",
    "target_points = np.random.random((Ne,2))\n",
    "c = np.random.random(Nc)\n",
    "sig = np.ones(Nc)*0.05\n",
    "\n",
    "for epsilon in epsilon_values:\n",
    "    # evaluating performance of figtree evaluation\n",
    "    print(\"Figtree evaluation with N={0}\".format(Nc))\n",
    "    tr = %timeit -o -n 10 figtree(source_points, target_points, c, bandwidth=0.05, epsilon=epsilon)\n",
    "    times_figtree2.append(tr.average)\n",
    "    print(\"\\n\")\n",
    "    "
   ]
  },
  {
   "cell_type": "code",
   "execution_count": 102,
   "metadata": {},
   "outputs": [
    {
     "data": {
      "image/png": "[encoded data removed]",
      "text/plain": [
       "<Figure size 864x360 with 2 Axes>"
      ]
     },
     "metadata": {},
     "output_type": "display_data"
    }
   ],
   "source": [
    "plt.figure(figsize=(12,5))\n",
    "plt.subplot(121)\n",
    "plt.semilogx(epsilon_values, times_figtree2, \"o--\")\n",
    "plt.grid()\n",
    "plt.xlabel(\"$\\epsilon$\")\n",
    "plt.ylabel(\"time [s]\")\n",
    "plt.subplot(122)\n",
    "plt.loglog(epsilon_values, times_figtree2, \"o--\")\n",
    "plt.grid()\n",
    "plt.xlabel(\"$\\epsilon$\")\n",
    "plt.ylabel(\"time [s]\")\n",
    "plt.show()"
   ]
  },
  {
   "cell_type": "markdown",
   "metadata": {},
   "source": [
    "## `figtree` methods"
   ]
  },
  {
   "cell_type": "code",
   "execution_count": 103,
   "metadata": {},
   "outputs": [],
   "source": [
    "# example problem\n",
    "np.random.seed(0)\n",
    "Nc = 10000\n",
    "Ne = 5*Nc\n",
    "\n",
    "source_points = np.random.random((Nc,2))\n",
    "target_points = np.random.random((Ne,2))\n",
    "c = np.random.random(Nc)\n",
    "sig = np.ones(Nc)*0.05"
   ]
  },
  {
   "cell_type": "code",
   "execution_count": 110,
   "metadata": {},
   "outputs": [
    {
     "name": "stdout",
     "output_type": "stream",
     "text": [
      "1.54 s ± 21.9 ms per loop (mean ± std. dev. of 7 runs, 10 loops each)\n"
     ]
    }
   ],
   "source": [
    "%%timeit -n 10 \n",
    "figtree(source_points, target_points, c, bandwidth=0.05, epsilon=1e-10, eval=\"direct\")"
   ]
  },
  {
   "cell_type": "code",
   "execution_count": 111,
   "metadata": {},
   "outputs": [
    {
     "name": "stdout",
     "output_type": "stream",
     "text": [
      "803 ms ± 72.4 ms per loop (mean ± std. dev. of 7 runs, 10 loops each)\n"
     ]
    }
   ],
   "source": [
    "%%timeit -n 10 \n",
    "figtree(source_points, target_points, c, bandwidth=0.05, epsilon=1e-10, eval=\"direct-tree\")"
   ]
  },
  {
   "cell_type": "code",
   "execution_count": 112,
   "metadata": {},
   "outputs": [
    {
     "name": "stdout",
     "output_type": "stream",
     "text": [
      "659 ms ± 4.11 ms per loop (mean ± std. dev. of 7 runs, 10 loops each)\n"
     ]
    }
   ],
   "source": [
    "%%timeit -n 10 \n",
    "figtree(source_points, target_points, c, bandwidth=0.05, epsilon=1e-10, eval=\"IFGT\")"
   ]
  },
  {
   "cell_type": "code",
   "execution_count": 113,
   "metadata": {},
   "outputs": [
    {
     "name": "stdout",
     "output_type": "stream",
     "text": [
      "797 ms ± 14.6 ms per loop (mean ± std. dev. of 7 runs, 10 loops each)\n"
     ]
    }
   ],
   "source": [
    "%%timeit -n 10 \n",
    "figtree(source_points, target_points, c, bandwidth=0.05, epsilon=1e-10, eval=\"IFGT-tree\")"
   ]
  },
  {
   "cell_type": "markdown",
   "metadata": {},
   "source": [
    "***\n",
    "***"
   ]
  },
  {
   "cell_type": "code",
   "execution_count": 7,
   "metadata": {
    "scrolled": true
   },
   "outputs": [
    {
     "name": "stdout",
     "output_type": "stream",
     "text": [
      "Number of points 250\n",
      "5.38 ms ± 673 µs per loop (mean ± std. dev. of 7 runs, 5 loops each)\n",
      "2.79 ms ± 284 µs per loop (mean ± std. dev. of 7 runs, 5 loops each)\n",
      "10.2 ms ± 1.38 ms per loop (mean ± std. dev. of 7 runs, 5 loops each)\n",
      "10.2 ms ± 655 µs per loop (mean ± std. dev. of 7 runs, 5 loops each)\n",
      "Number of points 500\n",
      "20.3 ms ± 823 µs per loop (mean ± std. dev. of 7 runs, 5 loops each)\n",
      "10.3 ms ± 530 µs per loop (mean ± std. dev. of 7 runs, 5 loops each)\n",
      "48 ms ± 1.04 ms per loop (mean ± std. dev. of 7 runs, 5 loops each)\n",
      "51.2 ms ± 3.71 ms per loop (mean ± std. dev. of 7 runs, 5 loops each)\n",
      "Number of points 750\n",
      "45.6 ms ± 1.7 ms per loop (mean ± std. dev. of 7 runs, 5 loops each)\n",
      "21.6 ms ± 637 µs per loop (mean ± std. dev. of 7 runs, 5 loops each)\n",
      "94 ms ± 5.97 ms per loop (mean ± std. dev. of 7 runs, 5 loops each)\n",
      "100 ms ± 13.6 ms per loop (mean ± std. dev. of 7 runs, 5 loops each)\n",
      "Number of points 1000\n",
      "120 ms ± 34 ms per loop (mean ± std. dev. of 7 runs, 5 loops each)\n",
      "62.9 ms ± 11.6 ms per loop (mean ± std. dev. of 7 runs, 5 loops each)\n",
      "156 ms ± 13.2 ms per loop (mean ± std. dev. of 7 runs, 5 loops each)\n",
      "153 ms ± 9.49 ms per loop (mean ± std. dev. of 7 runs, 5 loops each)\n",
      "Number of points 1250\n",
      "131 ms ± 2.6 ms per loop (mean ± std. dev. of 7 runs, 5 loops each)\n",
      "56.2 ms ± 1.76 ms per loop (mean ± std. dev. of 7 runs, 5 loops each)\n",
      "191 ms ± 4.38 ms per loop (mean ± std. dev. of 7 runs, 5 loops each)\n",
      "214 ms ± 11.9 ms per loop (mean ± std. dev. of 7 runs, 5 loops each)\n",
      "Number of points 1500\n",
      "213 ms ± 24.7 ms per loop (mean ± std. dev. of 7 runs, 5 loops each)\n",
      "78.9 ms ± 3.82 ms per loop (mean ± std. dev. of 7 runs, 5 loops each)\n",
      "251 ms ± 10.6 ms per loop (mean ± std. dev. of 7 runs, 5 loops each)\n",
      "261 ms ± 6.54 ms per loop (mean ± std. dev. of 7 runs, 5 loops each)\n",
      "Number of points 1750\n",
      "262 ms ± 13.4 ms per loop (mean ± std. dev. of 7 runs, 5 loops each)\n",
      "116 ms ± 8.18 ms per loop (mean ± std. dev. of 7 runs, 5 loops each)\n",
      "322 ms ± 8.1 ms per loop (mean ± std. dev. of 7 runs, 5 loops each)\n",
      "322 ms ± 10.7 ms per loop (mean ± std. dev. of 7 runs, 5 loops each)\n",
      "Number of points 2000\n",
      "381 ms ± 31.3 ms per loop (mean ± std. dev. of 7 runs, 5 loops each)\n",
      "138 ms ± 3.51 ms per loop (mean ± std. dev. of 7 runs, 5 loops each)\n",
      "357 ms ± 6.64 ms per loop (mean ± std. dev. of 7 runs, 5 loops each)\n",
      "377 ms ± 9.39 ms per loop (mean ± std. dev. of 7 runs, 5 loops each)\n",
      "Number of points 2250\n",
      "413 ms ± 9.46 ms per loop (mean ± std. dev. of 7 runs, 5 loops each)\n",
      "171 ms ± 4.71 ms per loop (mean ± std. dev. of 7 runs, 5 loops each)\n",
      "409 ms ± 8.65 ms per loop (mean ± std. dev. of 7 runs, 5 loops each)\n",
      "417 ms ± 9.96 ms per loop (mean ± std. dev. of 7 runs, 5 loops each)\n",
      "Number of points 2500\n",
      "529 ms ± 15.2 ms per loop (mean ± std. dev. of 7 runs, 5 loops each)\n",
      "215 ms ± 4.26 ms per loop (mean ± std. dev. of 7 runs, 5 loops each)\n",
      "841 ms ± 358 ms per loop (mean ± std. dev. of 7 runs, 5 loops each)\n",
      "519 ms ± 60 ms per loop (mean ± std. dev. of 7 runs, 5 loops each)\n",
      "Number of points 2750\n",
      "643 ms ± 32 ms per loop (mean ± std. dev. of 7 runs, 5 loops each)\n",
      "263 ms ± 7.36 ms per loop (mean ± std. dev. of 7 runs, 5 loops each)\n",
      "521 ms ± 11.8 ms per loop (mean ± std. dev. of 7 runs, 5 loops each)\n",
      "523 ms ± 8.6 ms per loop (mean ± std. dev. of 7 runs, 5 loops each)\n",
      "Number of points 3000\n",
      "718 ms ± 8.71 ms per loop (mean ± std. dev. of 7 runs, 5 loops each)\n",
      "312 ms ± 8.88 ms per loop (mean ± std. dev. of 7 runs, 5 loops each)\n",
      "692 ms ± 37.7 ms per loop (mean ± std. dev. of 7 runs, 5 loops each)\n",
      "618 ms ± 24.8 ms per loop (mean ± std. dev. of 7 runs, 5 loops each)\n",
      "Number of points 3250\n",
      "909 ms ± 50.1 ms per loop (mean ± std. dev. of 7 runs, 5 loops each)\n",
      "420 ms ± 14.4 ms per loop (mean ± std. dev. of 7 runs, 5 loops each)\n",
      "636 ms ± 20.1 ms per loop (mean ± std. dev. of 7 runs, 5 loops each)\n",
      "730 ms ± 21.5 ms per loop (mean ± std. dev. of 7 runs, 5 loops each)\n",
      "Number of points 3500\n",
      "1.04 s ± 25.9 ms per loop (mean ± std. dev. of 7 runs, 5 loops each)\n",
      "426 ms ± 10.8 ms per loop (mean ± std. dev. of 7 runs, 5 loops each)\n",
      "677 ms ± 13 ms per loop (mean ± std. dev. of 7 runs, 5 loops each)\n",
      "701 ms ± 19.4 ms per loop (mean ± std. dev. of 7 runs, 5 loops each)\n",
      "Number of points 3750\n",
      "1.15 s ± 27 ms per loop (mean ± std. dev. of 7 runs, 5 loops each)\n",
      "519 ms ± 18.8 ms per loop (mean ± std. dev. of 7 runs, 5 loops each)\n",
      "749 ms ± 25.9 ms per loop (mean ± std. dev. of 7 runs, 5 loops each)\n",
      "762 ms ± 54.6 ms per loop (mean ± std. dev. of 7 runs, 5 loops each)\n",
      "Number of points 4000\n",
      "1.29 s ± 41.2 ms per loop (mean ± std. dev. of 7 runs, 5 loops each)\n",
      "628 ms ± 8.51 ms per loop (mean ± std. dev. of 7 runs, 5 loops each)\n",
      "804 ms ± 13.2 ms per loop (mean ± std. dev. of 7 runs, 5 loops each)\n",
      "901 ms ± 88.4 ms per loop (mean ± std. dev. of 7 runs, 5 loops each)\n",
      "Number of points 4250\n",
      "1.64 s ± 282 ms per loop (mean ± std. dev. of 7 runs, 5 loops each)\n",
      "657 ms ± 30.5 ms per loop (mean ± std. dev. of 7 runs, 5 loops each)\n",
      "856 ms ± 17.3 ms per loop (mean ± std. dev. of 7 runs, 5 loops each)\n",
      "876 ms ± 43.8 ms per loop (mean ± std. dev. of 7 runs, 5 loops each)\n",
      "Number of points 4500\n",
      "1.65 s ± 19.2 ms per loop (mean ± std. dev. of 7 runs, 5 loops each)\n",
      "717 ms ± 30 ms per loop (mean ± std. dev. of 7 runs, 5 loops each)\n",
      "908 ms ± 9.33 ms per loop (mean ± std. dev. of 7 runs, 5 loops each)\n",
      "990 ms ± 61.5 ms per loop (mean ± std. dev. of 7 runs, 5 loops each)\n",
      "Number of points 4750\n",
      "1.88 s ± 69 ms per loop (mean ± std. dev. of 7 runs, 5 loops each)\n",
      "845 ms ± 31 ms per loop (mean ± std. dev. of 7 runs, 5 loops each)\n",
      "988 ms ± 60.6 ms per loop (mean ± std. dev. of 7 runs, 5 loops each)\n",
      "969 ms ± 19.1 ms per loop (mean ± std. dev. of 7 runs, 5 loops each)\n",
      "Number of points 5000\n",
      "2.05 s ± 39.3 ms per loop (mean ± std. dev. of 7 runs, 5 loops each)\n",
      "889 ms ± 19.5 ms per loop (mean ± std. dev. of 7 runs, 5 loops each)\n",
      "1.01 s ± 27.9 ms per loop (mean ± std. dev. of 7 runs, 5 loops each)\n",
      "1.07 s ± 56 ms per loop (mean ± std. dev. of 7 runs, 5 loops each)\n",
      "Number of points 5250\n",
      "2.3 s ± 45.4 ms per loop (mean ± std. dev. of 7 runs, 5 loops each)\n",
      "979 ms ± 32.2 ms per loop (mean ± std. dev. of 7 runs, 5 loops each)\n",
      "1.08 s ± 7.4 ms per loop (mean ± std. dev. of 7 runs, 5 loops each)\n",
      "1.1 s ± 23.3 ms per loop (mean ± std. dev. of 7 runs, 5 loops each)\n",
      "Number of points 5500\n",
      "2.49 s ± 72.5 ms per loop (mean ± std. dev. of 7 runs, 5 loops each)\n",
      "1.08 s ± 28.8 ms per loop (mean ± std. dev. of 7 runs, 5 loops each)\n",
      "1.12 s ± 43.2 ms per loop (mean ± std. dev. of 7 runs, 5 loops each)\n",
      "1.23 s ± 80.6 ms per loop (mean ± std. dev. of 7 runs, 5 loops each)\n",
      "Number of points 5750\n",
      "2.75 s ± 108 ms per loop (mean ± std. dev. of 7 runs, 5 loops each)\n",
      "1.23 s ± 60.6 ms per loop (mean ± std. dev. of 7 runs, 5 loops each)\n",
      "1.16 s ± 19.7 ms per loop (mean ± std. dev. of 7 runs, 5 loops each)\n",
      "1.16 s ± 14.7 ms per loop (mean ± std. dev. of 7 runs, 5 loops each)\n",
      "Number of points 6000\n",
      "2.86 s ± 38.2 ms per loop (mean ± std. dev. of 7 runs, 5 loops each)\n",
      "1.25 s ± 13.7 ms per loop (mean ± std. dev. of 7 runs, 5 loops each)\n",
      "1.19 s ± 12.7 ms per loop (mean ± std. dev. of 7 runs, 5 loops each)\n",
      "1.22 s ± 11.4 ms per loop (mean ± std. dev. of 7 runs, 5 loops each)\n",
      "Number of points 6250\n",
      "3.09 s ± 30.1 ms per loop (mean ± std. dev. of 7 runs, 5 loops each)\n",
      "1.34 s ± 16.6 ms per loop (mean ± std. dev. of 7 runs, 5 loops each)\n",
      "1.24 s ± 18.4 ms per loop (mean ± std. dev. of 7 runs, 5 loops each)\n",
      "1.34 s ± 61 ms per loop (mean ± std. dev. of 7 runs, 5 loops each)\n",
      "Number of points 6500\n",
      "3.51 s ± 23.2 ms per loop (mean ± std. dev. of 7 runs, 5 loops each)\n",
      "1.61 s ± 51.4 ms per loop (mean ± std. dev. of 7 runs, 5 loops each)\n",
      "1.57 s ± 88.9 ms per loop (mean ± std. dev. of 7 runs, 5 loops each)\n",
      "1.46 s ± 88.9 ms per loop (mean ± std. dev. of 7 runs, 5 loops each)\n",
      "Number of points 6750\n",
      "3.85 s ± 116 ms per loop (mean ± std. dev. of 7 runs, 5 loops each)\n",
      "1.74 s ± 84.9 ms per loop (mean ± std. dev. of 7 runs, 5 loops each)\n",
      "1.41 s ± 9.52 ms per loop (mean ± std. dev. of 7 runs, 5 loops each)\n",
      "1.44 s ± 9.27 ms per loop (mean ± std. dev. of 7 runs, 5 loops each)\n",
      "Number of points 7000\n",
      "4.41 s ± 299 ms per loop (mean ± std. dev. of 7 runs, 5 loops each)\n",
      "2.17 s ± 320 ms per loop (mean ± std. dev. of 7 runs, 5 loops each)\n",
      "1.55 s ± 75.2 ms per loop (mean ± std. dev. of 7 runs, 5 loops each)\n"
     ]
    },
    {
     "name": "stdout",
     "output_type": "stream",
     "text": [
      "1.71 s ± 139 ms per loop (mean ± std. dev. of 7 runs, 5 loops each)\n",
      "Number of points 7250\n",
      "4.38 s ± 81.1 ms per loop (mean ± std. dev. of 7 runs, 5 loops each)\n",
      "2.03 s ± 127 ms per loop (mean ± std. dev. of 7 runs, 5 loops each)\n",
      "1.55 s ± 39.8 ms per loop (mean ± std. dev. of 7 runs, 5 loops each)\n",
      "1.57 s ± 38 ms per loop (mean ± std. dev. of 7 runs, 5 loops each)\n",
      "Number of points 7500\n",
      "4.82 s ± 154 ms per loop (mean ± std. dev. of 7 runs, 5 loops each)\n",
      "2.25 s ± 34.9 ms per loop (mean ± std. dev. of 7 runs, 5 loops each)\n",
      "1.67 s ± 41.9 ms per loop (mean ± std. dev. of 7 runs, 5 loops each)\n",
      "2 s ± 260 ms per loop (mean ± std. dev. of 7 runs, 5 loops each)\n",
      "Number of points 7750\n",
      "5.59 s ± 773 ms per loop (mean ± std. dev. of 7 runs, 5 loops each)\n",
      "2.22 s ± 61.7 ms per loop (mean ± std. dev. of 7 runs, 5 loops each)\n",
      "1.64 s ± 18.1 ms per loop (mean ± std. dev. of 7 runs, 5 loops each)\n",
      "1.76 s ± 113 ms per loop (mean ± std. dev. of 7 runs, 5 loops each)\n",
      "Number of points 8000\n",
      "6.46 s ± 496 ms per loop (mean ± std. dev. of 7 runs, 5 loops each)\n",
      "3.09 s ± 49.9 ms per loop (mean ± std. dev. of 7 runs, 5 loops each)\n",
      "1.71 s ± 164 ms per loop (mean ± std. dev. of 7 runs, 5 loops each)\n",
      "1.67 s ± 27.9 ms per loop (mean ± std. dev. of 7 runs, 5 loops each)\n",
      "Number of points 8250\n",
      "5.46 s ± 168 ms per loop (mean ± std. dev. of 7 runs, 5 loops each)\n",
      "2.35 s ± 29.4 ms per loop (mean ± std. dev. of 7 runs, 5 loops each)\n",
      "1.73 s ± 86.8 ms per loop (mean ± std. dev. of 7 runs, 5 loops each)\n",
      "1.68 s ± 8.69 ms per loop (mean ± std. dev. of 7 runs, 5 loops each)\n",
      "Number of points 8500\n",
      "5.77 s ± 206 ms per loop (mean ± std. dev. of 7 runs, 5 loops each)\n",
      "2.39 s ± 14.2 ms per loop (mean ± std. dev. of 7 runs, 5 loops each)\n",
      "1.66 s ± 16.4 ms per loop (mean ± std. dev. of 7 runs, 5 loops each)\n",
      "1.69 s ± 9.89 ms per loop (mean ± std. dev. of 7 runs, 5 loops each)\n",
      "Number of points 8750\n",
      "5.84 s ± 30.4 ms per loop (mean ± std. dev. of 7 runs, 5 loops each)\n",
      "2.56 s ± 62.4 ms per loop (mean ± std. dev. of 7 runs, 5 loops each)\n",
      "1.71 s ± 19.4 ms per loop (mean ± std. dev. of 7 runs, 5 loops each)\n",
      "1.74 s ± 34.5 ms per loop (mean ± std. dev. of 7 runs, 5 loops each)\n",
      "Number of points 9000\n",
      "6.19 s ± 17.9 ms per loop (mean ± std. dev. of 7 runs, 5 loops each)\n",
      "2.72 s ± 35.8 ms per loop (mean ± std. dev. of 7 runs, 5 loops each)\n",
      "1.76 s ± 30.3 ms per loop (mean ± std. dev. of 7 runs, 5 loops each)\n",
      "1.8 s ± 15.8 ms per loop (mean ± std. dev. of 7 runs, 5 loops each)\n",
      "Number of points 9250\n",
      "7.01 s ± 521 ms per loop (mean ± std. dev. of 7 runs, 5 loops each)\n",
      "2.98 s ± 146 ms per loop (mean ± std. dev. of 7 runs, 5 loops each)\n",
      "1.89 s ± 39.6 ms per loop (mean ± std. dev. of 7 runs, 5 loops each)\n",
      "2.01 s ± 24.3 ms per loop (mean ± std. dev. of 7 runs, 5 loops each)\n",
      "Number of points 9500\n",
      "7.14 s ± 137 ms per loop (mean ± std. dev. of 7 runs, 5 loops each)\n",
      "2.99 s ± 22.2 ms per loop (mean ± std. dev. of 7 runs, 5 loops each)\n",
      "1.85 s ± 17.6 ms per loop (mean ± std. dev. of 7 runs, 5 loops each)\n",
      "1.9 s ± 22.8 ms per loop (mean ± std. dev. of 7 runs, 5 loops each)\n",
      "Number of points 9750\n",
      "7.39 s ± 303 ms per loop (mean ± std. dev. of 7 runs, 5 loops each)\n",
      "3.16 s ± 25.5 ms per loop (mean ± std. dev. of 7 runs, 5 loops each)\n",
      "1.93 s ± 19.5 ms per loop (mean ± std. dev. of 7 runs, 5 loops each)\n",
      "1.93 s ± 21.1 ms per loop (mean ± std. dev. of 7 runs, 5 loops each)\n",
      "Number of points 10000\n",
      "7.59 s ± 21.1 ms per loop (mean ± std. dev. of 7 runs, 5 loops each)\n",
      "3.35 s ± 37.5 ms per loop (mean ± std. dev. of 7 runs, 5 loops each)\n",
      "2.09 s ± 168 ms per loop (mean ± std. dev. of 7 runs, 5 loops each)\n",
      "2.02 s ± 18.5 ms per loop (mean ± std. dev. of 7 runs, 5 loops each)\n"
     ]
    }
   ],
   "source": [
    "times_figtree_m1 = []\n",
    "times_figtree_m2 = []\n",
    "times_figtree_m3 = []\n",
    "times_figtree_m4 = []\n",
    "n_points = list(range(250, 10001, 250))\n",
    "\n",
    "for Nc in n_points:\n",
    "    # points generation\n",
    "    Ne = 5*Nc\n",
    "    source_points = np.random.random((Nc,2))\n",
    "    target_points = np.random.random((Ne,2))\n",
    "    c = np.random.random(Nc)\n",
    "    sig = np.ones(Nc)*0.05\n",
    "    xc = source_points[:,0]\n",
    "    yc = source_points[:,1]\n",
    "    xe = target_points[:,0]\n",
    "    ye = target_points[:,1]\n",
    "    \n",
    "    print(\"Number of points\",Nc)\n",
    "    \n",
    "    # evaluating performance of figtree evaluation\n",
    "    tr1 = %timeit -o -n 5 figtree(source_points, target_points, c, bandwidth=0.05, epsilon=1e-10, eval=\"direct\")\n",
    "    times_figtree_m1.append(tr1.average)\n",
    "    \n",
    "    # evaluating performance of figtree evaluation\n",
    "    tr2 = %timeit -o -n 5 figtree(source_points, target_points, c, bandwidth=0.05, epsilon=1e-10, eval=\"direct-tree\")\n",
    "    times_figtree_m2.append(tr2.average)\n",
    "    \n",
    "    # evaluating performance of figtree evaluation\n",
    "    tr3 = %timeit -o -n 5 figtree(source_points, target_points, c, bandwidth=0.05, epsilon=1e-10, eval=\"IFGT\")\n",
    "    times_figtree_m3.append(tr3.average)\n",
    "    \n",
    "    # evaluating performance of figtree evaluation\n",
    "    tr4 = %timeit -o -n 5 figtree(source_points, target_points, c, bandwidth=0.05, epsilon=1e-10, eval=\"IFGT-tree\")\n",
    "    times_figtree_m4.append(tr4.average)"
   ]
  },
  {
   "cell_type": "code",
   "execution_count": 8,
   "metadata": {},
   "outputs": [
    {
     "data": {
      "image/png": "[encoded data removed]",
      "text/plain": [
       "<Figure size 432x288 with 1 Axes>"
      ]
     },
     "metadata": {},
     "output_type": "display_data"
    }
   ],
   "source": [
    "plt.plot(n_points, times_figtree_m1, \"o--\", label=\"direct\")\n",
    "plt.plot(n_points, times_figtree_m2, \"o--\", label=\"direct-tree\")\n",
    "plt.plot(n_points, times_figtree_m3, \"o--\", label=\"ifgt\")\n",
    "plt.plot(n_points, times_figtree_m4, \"o--\", label=\"ifgt-tree\")\n",
    "plt.grid()\n",
    "plt.legend(loc=\"best\")\n",
    "plt.xlabel(\"N\")\n",
    "plt.ylabel(\"time [s]\")\n",
    "plt.show()"
   ]
  },
  {
   "cell_type": "markdown",
   "metadata": {},
   "source": [
    "## Comparison in low number of centers regime"
   ]
  },
  {
   "cell_type": "code",
   "execution_count": 8,
   "metadata": {},
   "outputs": [],
   "source": [
    "# example problem\n",
    "np.random.seed(0)\n",
    "Nc = 250\n",
    "Ne = 4*Nc\n",
    "\n",
    "source_points = np.random.random((Nc,2))\n",
    "target_points = np.random.random((Ne,2))\n",
    "c = np.random.random(Nc)\n",
    "sig = np.ones(Nc)*0.05\n",
    "\n",
    "xc = source_points[:,0]\n",
    "yc = source_points[:,1]\n",
    "xe = target_points[:,0]\n",
    "ye = target_points[:,1]"
   ]
  },
  {
   "cell_type": "code",
   "execution_count": 9,
   "metadata": {},
   "outputs": [
    {
     "name": "stdout",
     "output_type": "stream",
     "text": [
      "4.29 ms ± 1.17 ms per loop (mean ± std. dev. of 7 runs, 100 loops each)\n"
     ]
    }
   ],
   "source": [
    "%timeit -n 100 u_eval(c, sig, xc, yc, xe, ye)"
   ]
  },
  {
   "cell_type": "code",
   "execution_count": 11,
   "metadata": {},
   "outputs": [
    {
     "name": "stdout",
     "output_type": "stream",
     "text": [
      "3.27 ms ± 140 µs per loop (mean ± std. dev. of 7 runs, 100 loops each)\n"
     ]
    }
   ],
   "source": [
    "%timeit -n 100 u_eval_figtree(c, 0.05, xc, yc, xe, ye)"
   ]
  }
 ],
 "metadata": {
  "kernelspec": {
   "display_name": "Python 3",
   "language": "python",
   "name": "python3"
  },
  "language_info": {
   "codemirror_mode": {
    "name": "ipython",
    "version": 3
   },
   "file_extension": ".py",
   "mimetype": "text/x-python",
   "name": "python",
   "nbconvert_exporter": "python",
   "pygments_lexer": "ipython3",
   "version": "3.6.5"
  }
 },
 "nbformat": 4,
 "nbformat_minor": 2
}
