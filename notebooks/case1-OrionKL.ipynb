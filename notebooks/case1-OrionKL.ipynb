{
 "cells": [
  {
   "cell_type": "code",
   "execution_count": 1,
   "metadata": {},
   "outputs": [
    {
     "name": "stderr",
     "output_type": "stream",
     "text": [
      "/Users/martin/anaconda3/lib/python3.6/site-packages/matplotlib/cbook/deprecation.py:107: MatplotlibDeprecationWarning: The mpl_toolkits.axes_grid module was deprecated in version 2.1. Use mpl_toolkits.axes_grid1 and mpl_toolkits.axisartist provies the same functionality instead.\n",
      "  warnings.warn(message, mplDeprecation, stacklevel=1)\n"
     ]
    }
   ],
   "source": [
    "%matplotlib osx\n",
    "\n",
    "import os\n",
    "import sys\n",
    "import copy\n",
    "import numpy as np\n",
    "#np.seterr(over='ignore')\n",
    "import scipy as sp\n",
    "\n",
    "# filtering Astropy warnings\n",
    "import warnings\n",
    "from astropy.utils.exceptions import AstropyWarning\n",
    "warnings.simplefilter('ignore', category=AstropyWarning)\n",
    "\n",
    "# autoreload user modules functionality\n",
    "%load_ext autoreload\n",
    "%autoreload 2\n",
    "\n",
    "sys.path.append('../lib/')\n",
    "from hdmclouds import *\n",
    "from utils import *\n",
    "from graph import *\n",
    "from preprocessing import *\n",
    "from gmr import *\n",
    "\n",
    "from ipywidgets import interact, interactive, fixed, FloatSlider, IntSlider\n",
    "import aplpy\n",
    "import matplotlib\n",
    "import matplotlib.pyplot as plt; plt.show()\n",
    "matplotlib.rcParams.update({'font.size': 13})\n",
    "\n",
    "from pycupid import *\n",
    "\n",
    "save_path = \"/Users/martin/Dropbox/Aplicaciones/ShareLaTeX/HDMC-v1/figures/\""
   ]
  },
  {
   "cell_type": "code",
   "execution_count": 2,
   "metadata": {},
   "outputs": [],
   "source": [
    "fits_path = '../data/images/Orion.cont.image.fits'\n",
    "#fits_path = '../data/images/OphA_ExtnCambR_F.fits'\n",
    "#fits_path = '../data/images/PerA_Extn2MASS_F_Gal.fits'\n",
    "#fits_path = '../data/images/RhoOphiuchus60.fits'\n",
    "#fits_path = '../data/images/perseus60.fits'\n",
    "#fits_path = '../data/SCIMES/orion_12CO_mom0.fits'\n",
    "\n",
    "data, wcs, hdu = load_data(fits_path)\n",
    "base_level = estimate_rms(data)\n",
    "image_plot(data, wcs=wcs, unit=hdu.header[\"BUNIT\"])"
   ]
  },
  {
   "cell_type": "code",
   "execution_count": 3,
   "metadata": {},
   "outputs": [
    {
     "data": {
      "application/vnd.jupyter.widget-view+json": {
       "model_id": "a66b2c5487db4400851a59c97111b977",
       "version_major": 2,
       "version_minor": 0
      },
      "text/html": [
       "<p>Failed to display Jupyter Widget of type <code>interactive</code>.</p>\n",
       "<p>\n",
       "  If you're reading this message in the Jupyter Notebook or JupyterLab Notebook, it may mean\n",
       "  that the widgets JavaScript is still loading. If this message persists, it\n",
       "  likely means that the widgets JavaScript library is either not installed or\n",
       "  not enabled. See the <a href=\"https://ipywidgets.readthedocs.io/en/stable/user_install.html\">Jupyter\n",
       "  Widgets Documentation</a> for setup instructions.\n",
       "</p>\n",
       "<p>\n",
       "  If you're reading this message in another frontend (for example, a static\n",
       "  rendering on GitHub or <a href=\"https://nbviewer.jupyter.org/\">NBViewer</a>),\n",
       "  it may mean that your frontend doesn't currently support widgets.\n",
       "</p>\n"
      ],
      "text/plain": [
       "interactive(children=(FloatSlider(value=0.10237737624469602, description='back_level', max=0.20475475248939204, min=0.0051188688122348015, readout_format='.4f', step=0.0019963588367715723), Output()), _dom_classes=('widget-interact',))"
      ]
     },
     "metadata": {},
     "output_type": "display_data"
    }
   ],
   "source": [
    "preprocessing(data, wcs)"
   ]
  },
  {
   "cell_type": "code",
   "execution_count": 4,
   "metadata": {
    "scrolled": false
   },
   "outputs": [
    {
     "name": "stderr",
     "output_type": "stream",
     "text": [
      "/Users/martin/anaconda3/lib/python3.6/site-packages/skimage/morphology/misc.py:122: UserWarning: Only one label was provided to `remove_small_objects`. Did you mean to use a boolean array?\n",
      "  warn(\"Only one label was provided to `remove_small_objects`. \"\n",
      "../lib/points_generation.py:176: RuntimeWarning: invalid value encountered in true_divide\n",
      "  prob /= prob.sum()\n",
      "../lib/points_generation.py:165: RuntimeWarning: invalid value encountered in less\n",
      "  sel = np.random.choice(points_indexes, size=1 , p=prob.ravel(), replace=False)[0]\n",
      "../lib/points_generation.py:165: RuntimeWarning: invalid value encountered in greater\n",
      "  sel = np.random.choice(points_indexes, size=1 , p=prob.ravel(), replace=False)[0]\n"
     ]
    },
    {
     "name": "stdout",
     "output_type": "stream",
     "text": [
      "No more points can be selected: Only 35 point from the 40 were selected.\n"
     ]
    }
   ],
   "source": [
    "hdmc = HDMClouds(data, back_level=0.089, wcs=wcs, verbose=True, n_center=200)"
   ]
  },
  {
   "cell_type": "code",
   "execution_count": 5,
   "metadata": {
    "scrolled": true
   },
   "outputs": [
    {
     "name": "stdout",
     "output_type": "stream",
     "text": [
      "\n",
      " \n",
      "##########################################################################################\n",
      "FINAL RESULTS:\n",
      "##########################################################################################\n",
      "\n",
      "Solver Output:\n",
      "success: False\n",
      "status: 5\n",
      "message: Number of calls to function has reached maxfev = 80100.\n",
      "nfev: 80122\n",
      "\n",
      "Residual stats:\n",
      "Residual RMS: 0.00565448399345009\n",
      "Residual Variance: 3.1114527910188986e-05\n",
      "Flux Lost: 0.016573453750320134\n",
      "Flux Addition: 0.010369665930832895\n",
      "Exceeded Pixels: 304\n",
      "Total elapsed time: 238.4491090774536 [s]\n"
     ]
    }
   ],
   "source": [
    "hdmc.build_gmr()\n",
    "hdmc.summarize()"
   ]
  },
  {
   "cell_type": "code",
   "execution_count": 6,
   "metadata": {
    "scrolled": true
   },
   "outputs": [
    {
     "name": "stderr",
     "output_type": "stream",
     "text": [
      "[autoreload of graph failed: Traceback (most recent call last):\n",
      "  File \"/Users/martin/anaconda3/lib/python3.6/site-packages/IPython/extensions/autoreload.py\", line 246, in check\n",
      "    superreload(m, reload, self.old_objects)\n",
      "  File \"/Users/martin/anaconda3/lib/python3.6/site-packages/IPython/extensions/autoreload.py\", line 369, in superreload\n",
      "    module = reload(module)\n",
      "  File \"/Users/martin/anaconda3/lib/python3.6/imp.py\", line 315, in reload\n",
      "    return importlib.reload(module)\n",
      "  File \"/Users/martin/anaconda3/lib/python3.6/importlib/__init__.py\", line 166, in reload\n",
      "    _bootstrap._exec(spec, module)\n",
      "  File \"<frozen importlib._bootstrap>\", line 618, in _exec\n",
      "  File \"<frozen importlib._bootstrap_external>\", line 678, in exec_module\n",
      "  File \"<frozen importlib._bootstrap>\", line 219, in _call_with_frames_removed\n",
      "  File \"../lib/graph.py\", line 9, in <module>\n",
      "    from points_generation import boundary_map_caa\n",
      "ImportError: cannot import name 'boundary_map_caa'\n",
      "]\n"
     ]
    },
    {
     "name": "stdout",
     "output_type": "stream",
     "text": [
      "Merged components 69 and 119 with 5.2306823695899476e-05 KL dist and 2.8348047398374376e-07 ISD dist\n",
      "Merged components 82 and 132 with 6.475476691213166e-05 KL dist and 2.6817454373134764e-07 ISD dist\n",
      "Merged components 49 and 116 with 0.00044356753915586467 KL dist and 1.1219748765611826e-06 ISD dist\n",
      "Merged components 64 and 107 with 0.0008440819187898625 KL dist and 0.00022637946770842632 ISD dist\n",
      "Merged components 61 and 75 with 0.0010582070682816358 KL dist and 5.0611834500280395e-05 ISD dist\n",
      "Merged components 84 and 129 with 0.0013212808553930977 KL dist and 7.784930200926965e-05 ISD dist\n",
      "Merged components 26 and 42 with 0.0015787084408718233 KL dist and 0.0007966455306078757 ISD dist\n",
      "Merged components 2 and 53 with 0.001617101674191379 KL dist and 0.0002332103207054459 ISD dist\n",
      "Merged components 13 and 32 with 0.0016915529451563271 KL dist and 0.0007494973572812202 ISD dist\n",
      "Merged components 15 and 80 with 0.0021251012713396356 KL dist and 0.0011238383526324114 ISD dist\n",
      "Merged components 131 and 141 with 0.0023815103818386474 KL dist and 0.003908333878205106 ISD dist\n",
      "Merged components 23 and 125 with 0.0024471975835960724 KL dist and 0.0019066069670750085 ISD dist\n",
      "Merged components 14 and 87 with 0.0028384528406405485 KL dist and 0.0016772888740492764 ISD dist\n",
      "Merged components 12 and 102 with 0.003054982490200059 KL dist and 0.0036289579917753167 ISD dist\n",
      "Merged components 33 and 58 with 0.0033342563787119167 KL dist and 0.007792023762183742 ISD dist\n",
      "Merged components 51 and 136 with 0.003559290512462305 KL dist and 0.021341092388411143 ISD dist\n",
      "Merged components 10 and 73 with 0.0040428553741520545 KL dist and 0.006460021689268514 ISD dist\n",
      "Merged components 11 and 137 with 0.004391934199117042 KL dist and 0.000769502722790083 ISD dist\n",
      "Merged components 126 and 139 with 0.005065175875120807 KL dist and 0.00529696209919539 ISD dist\n",
      "Merged components 8 and 104 with 0.005507668326633297 KL dist and 0.00019316927494017477 ISD dist\n",
      "Merged components 34 and 156 with 0.00566975370234668 KL dist and 0.0639045430527111 ISD dist\n",
      "Merged components 103 and 135 with 0.005840606484335764 KL dist and 0.02112676088016785 ISD dist\n",
      "Merged components 38 and 98 with 0.006376033715711493 KL dist and 0.010660697799713015 ISD dist\n",
      "Merged components 3 and 99 with 0.006553249238463232 KL dist and 0.0006440180446602994 ISD dist\n",
      "Merged components 59 and 127 with 0.006686370564691568 KL dist and 0.005072944252337175 ISD dist\n",
      "Merged components 77 and 122 with 0.006689107763664381 KL dist and 0.0034121073741317787 ISD dist\n",
      "Merged components 118 and 146 with 0.006770662175466707 KL dist and 0.0019069134321181014 ISD dist\n",
      "Merged components 27 and 115 with 0.007809628081109576 KL dist and 0.0021285131061690166 ISD dist\n",
      "Merged components 22 and 70 with 0.00788736028312095 KL dist and 0.09976116064475882 ISD dist\n",
      "Merged components 95 and 140 with 0.007977323126732827 KL dist and 0.0005914552008197127 ISD dist\n",
      "Merged components 86 and 114 with 0.008000905585757362 KL dist and 0.0027887305131275575 ISD dist\n",
      "Merged components 43 and 89 with 0.008145054134267027 KL dist and 0.002035476148531501 ISD dist\n",
      "Merged components 40 and 101 with 0.008322719788833144 KL dist and 0.0053727127009901565 ISD dist\n",
      "Merged components 57 and 79 with 0.008697568437210326 KL dist and 0.006729729586213429 ISD dist\n",
      "Merged components 46 and 105 with 0.009126582633179448 KL dist and 0.009229915301980807 ISD dist\n",
      "Merged components 6 and 81 with 0.009345804432994737 KL dist and 0.02996790666314919 ISD dist\n",
      "Merged components 18 and 44 with 0.009807169297127494 KL dist and 0.030902291920589242 ISD dist\n",
      "Merged components 151 and 152 with 0.009859526030219556 KL dist and 0.0017935858473427935 ISD dist\n",
      "Merged components 93 and 149 with 0.010902983959877821 KL dist and 0.08745210480019905 ISD dist\n",
      "Merged components 31 and 123 with 0.011534500587251473 KL dist and 0.1525988753582248 ISD dist\n",
      "Merged components 62 and 85 with 0.012334285150215313 KL dist and 0.04096866205902927 ISD dist\n",
      "Merged components 54 and 120 with 0.012892805612173541 KL dist and 0.019894361722121223 ISD dist\n",
      "Merged components 0 and 96 with 0.013139556458149959 KL dist and 0.011968843256339845 ISD dist\n",
      "Merged components 9 and 124 with 0.014841869119162354 KL dist and 0.03707747481824142 ISD dist\n",
      "Merged components 28 and 160 with 0.015478083224011563 KL dist and 0.01950749303256094 ISD dist\n",
      "Merged components 65 and 108 with 0.016715125128473618 KL dist and 0.04551246434875589 ISD dist\n",
      "Merged components 4 and 100 with 0.016849802173270922 KL dist and 0.16949593045694566 ISD dist\n",
      "Merged components 5 and 153 with 0.017976874283446576 KL dist and 0.018308578460029867 ISD dist\n",
      "Merged components 60 and 110 with 0.01815633111799564 KL dist and 0.001603880949817782 ISD dist\n",
      "Merged components 66 and 109 with 0.01861445316092203 KL dist and 0.01636447117892903 ISD dist\n",
      "Merged components 56 and 154 with 0.018795321120819608 KL dist and 0.10870421981754408 ISD dist\n",
      "Merged components 76 and 121 with 0.01936839735622828 KL dist and 0.17529817260049807 ISD dist\n",
      "Merged components 134 and 173 with 0.02044372610451034 KL dist and 0.019210932289191796 ISD dist\n",
      "Merged components 63 and 106 with 0.020606922657355198 KL dist and 0.013083228588689266 ISD dist\n",
      "Merged components 35 and 162 with 0.021053978810912977 KL dist and 0.1013607294132437 ISD dist\n",
      "Merged components 21 and 37 with 0.02120990317251048 KL dist and 0.5387670181347075 ISD dist\n",
      "Merged components 30 and 163 with 0.02179200088647182 KL dist and 0.009013211360112905 ISD dist\n",
      "Merged components 78 and 177 with 0.022352893031775234 KL dist and 0.041362316237715024 ISD dist\n",
      "Merged components 88 and 147 with 0.022641192582621317 KL dist and 0.015872712804666733 ISD dist\n",
      "Merged components 7 and 165 with 0.024551094138836937 KL dist and 0.0629996800652961 ISD dist\n",
      "Merged components 159 and 174 with 0.02541077311532025 KL dist and 0.0407566379907367 ISD dist\n",
      "Merged components 1 and 52 with 0.025458614829932835 KL dist and 1.3041333527135366 ISD dist\n",
      "Merged components 172 and 181 with 0.025511421928915978 KL dist and 0.084340266343637 ISD dist\n",
      "Merged components 72 and 171 with 0.02643953016399314 KL dist and 0.04974216022007738 ISD dist\n",
      "Merged components 41 and 158 with 0.026605307187453298 KL dist and 0.031356216707556506 ISD dist\n",
      "Merged components 90 and 138 with 0.026705988095154065 KL dist and 0.08250390512132366 ISD dist\n",
      "Merged components 39 and 130 with 0.026837167501512604 KL dist and 0.044143798186214944 ISD dist\n",
      "Merged components 83 and 97 with 0.028850335701630314 KL dist and 0.0034195189925085856 ISD dist\n",
      "Merged components 19 and 112 with 0.029196957008052915 KL dist and 0.0818944054646531 ISD dist\n",
      "Merged components 142 and 179 with 0.030897043819434977 KL dist and 0.0972189518673332 ISD dist\n",
      "Merged components 175 and 185 with 0.03136338978029085 KL dist and 0.034529219037755965 ISD dist\n",
      "Merged components 71 and 176 with 0.03145713918206877 KL dist and 0.19509544394190126 ISD dist\n",
      "Merged components 91 and 193 with 0.03278091463643762 KL dist and 0.229874074262451 ISD dist\n",
      "Merged components 25 and 150 with 0.033197532118138307 KL dist and 0.07853021177119146 ISD dist\n",
      "Merged components 16 and 67 with 0.03359016147924726 KL dist and 0.09793891411917954 ISD dist\n",
      "Merged components 29 and 189 with 0.03368299517887774 KL dist and 0.12722515347047647 ISD dist\n",
      "Merged components 50 and 117 with 0.034729513854581784 KL dist and 0.05623184787822488 ISD dist\n",
      "Merged components 74 and 199 with 0.03551376466679268 KL dist and 0.2104501046010696 ISD dist\n",
      "Merged components 145 and 155 with 0.035792221532597424 KL dist and 0.14219148089306266 ISD dist\n",
      "Merged components 17 and 195 with 0.03950740630741989 KL dist and 0.10860885619774496 ISD dist\n",
      "Merged components 133 and 196 with 0.042766272933219884 KL dist and 0.09458631437098575 ISD dist\n",
      "Merged components 92 and 205 with 0.04383950708326845 KL dist and 0.11686240836588979 ISD dist\n",
      "Merged components 20 and 215 with 0.04458756372890904 KL dist and 0.10055413545151293 ISD dist\n",
      "Merged components 68 and 192 with 0.04495002920369651 KL dist and 0.11724098161261054 ISD dist\n",
      "Merged components 168 and 209 with 0.0457688997072101 KL dist and 0.13724226224238123 ISD dist\n",
      "Merged components 167 and 183 with 0.04743030021859884 KL dist and 0.16201441586659904 ISD dist\n",
      "Merged components 164 and 200 with 0.04755484987185088 KL dist and 0.13885966043504316 ISD dist\n",
      "Merged components 170 and 206 with 0.049780430624487115 KL dist and 0.1316749514981268 ISD dist\n",
      "Merged components 169 and 186 with 0.050023655826755276 KL dist and 0.07163140437391746 ISD dist\n",
      "Merged components 111 and 201 with 0.054545211986906206 KL dist and 0.20355550578739123 ISD dist\n",
      "Merged components 45 and 166 with 0.055247365646940105 KL dist and 0.5285429913156499 ISD dist\n",
      "Merged components 113 and 161 with 0.05831811817840071 KL dist and 0.08685669816331654 ISD dist\n",
      "Merged components 48 and 94 with 0.05998532547286106 KL dist and 0.46986299927699804 ISD dist\n",
      "Merged components 202 and 211 with 0.061786394629238295 KL dist and 0.12380490647628584 ISD dist\n",
      "Merged components 144 and 188 with 0.0638763005922085 KL dist and 0.11918020704050747 ISD dist\n",
      "Merged components 191 and 204 with 0.07062483079347437 KL dist and 0.3249799665178479 ISD dist\n",
      "Merged components 190 and 212 with 0.07537941193967357 KL dist and 0.25372699157526135 ISD dist\n",
      "Merged components 184 and 228 with 0.07823340488115771 KL dist and 0.2174671939071473 ISD dist\n",
      "Merged components 36 and 128 with 0.08084128975837968 KL dist and 0.2745731413769228 ISD dist\n",
      "Merged components 178 and 213 with 0.08517223855388534 KL dist and 0.6672114637622748 ISD dist\n",
      "Merged components 203 and 216 with 0.0863372775625032 KL dist and 0.7728066480048454 ISD dist\n",
      "Merged components 157 and 210 with 0.09128954841722003 KL dist and 1.1841189048823537 ISD dist\n",
      "Merged components 180 and 217 with 0.09165665784643673 KL dist and 0.6597042019653347 ISD dist\n",
      "Merged components 55 and 229 with 0.09237605571601337 KL dist and 0.5064688779406481 ISD dist\n",
      "Merged components 187 and 214 with 0.09881090151356153 KL dist and 0.5587996532645239 ISD dist\n",
      "Merged components 207 and 224 with 0.12042595808672152 KL dist and 0.9753778437125113 ISD dist\n",
      "Merged components 198 and 227 with 0.12521618442485116 KL dist and 0.8922537334400484 ISD dist\n",
      "Merged components 221 and 225 with 0.12899812715098502 KL dist and 0.7227473340975266 ISD dist\n",
      "Merged components 208 and 218 with 0.12910260766471238 KL dist and 0.39542891421804427 ISD dist\n",
      "Merged components 182 and 243 with 0.13373249633180162 KL dist and 1.1842065280176506 ISD dist\n",
      "Merged components 233 and 240 with 0.15089309023505848 KL dist and 0.9476488323418053 ISD dist\n"
     ]
    },
    {
     "name": "stdout",
     "output_type": "stream",
     "text": [
      "Merged components 47 and 194 with 0.15542780398963618 KL dist and 0.440084761701371 ISD dist\n",
      "Merged components 223 and 231 with 0.15641117872969734 KL dist and 0.4454107317394502 ISD dist\n",
      "Merged components 197 and 220 with 0.1597793844223161 KL dist and 2.6941833217396365 ISD dist\n",
      "Merged components 226 and 234 with 0.16169616923243724 KL dist and 0.4831922940872104 ISD dist\n",
      "Merged components 232 and 237 with 0.17336262592452445 KL dist and 1.229484798395319 ISD dist\n",
      "Merged components 143 and 230 with 0.17911520457249663 KL dist and 0.7148361020795448 ISD dist\n",
      "Merged components 219 and 236 with 0.21720733997743547 KL dist and 1.9132677139053413 ISD dist\n",
      "Merged components 24 and 249 with 0.2494080954856388 KL dist and 4.457658073110736 ISD dist\n",
      "Merged components 148 and 250 with 0.2573208340554691 KL dist and 4.0502182102020825 ISD dist\n",
      "Merged components 235 and 239 with 0.2678984471951127 KL dist and 2.624538436672566 ISD dist\n",
      "Merged components 242 and 246 with 0.31034399916571154 KL dist and 4.089465991093 ISD dist\n",
      "Merged components 251 and 255 with 0.31972296887441676 KL dist and 3.302637559173945 ISD dist\n",
      "Merged components 244 and 257 with 0.3286107290000997 KL dist and 2.8598584289720748 ISD dist\n",
      "Merged components 241 and 254 with 0.39999994830465013 KL dist and 4.043495301858513 ISD dist\n",
      "Merged components 253 and 259 with 0.42230017975454537 KL dist and 3.3891814705402226 ISD dist\n",
      "Merged components 222 and 248 with 0.45030658139761215 KL dist and 11.807498810493534 ISD dist\n",
      "Merged components 252 and 262 with 0.5498929663271106 KL dist and 13.259184460843642 ISD dist\n",
      "Merged components 247 and 261 with 0.5632391669993213 KL dist and 6.27821009742253 ISD dist\n",
      "Merged components 238 and 263 with 0.7303869894911026 KL dist and 23.989887649563343 ISD dist\n",
      "Merged components 256 and 260 with 0.7427042272792077 KL dist and 16.516504519211196 ISD dist\n",
      "Merged components 264 and 267 with 1.1610326354934077 KL dist and 23.37534747009147 ISD dist\n",
      "Merged components 258 and 265 with 1.2015198631667836 KL dist and 38.31184527636799 ISD dist\n",
      "Merged components 268 and 270 with 2.159965214101666 KL dist and 65.5977362849676 ISD dist\n",
      "Merged components 245 and 269 with 2.1733363118445332 KL dist and 74.62371793856653 ISD dist\n",
      "Merged components 266 and 272 with 2.7368031978155347 KL dist and 56.63663700809934 ISD dist\n",
      "Merged components 271 and 273 with 9.400479733070846 KL dist and 798.5659153314318 ISD dist\n"
     ]
    }
   ],
   "source": [
    "# retrieving real model parameters\n",
    "xc, yc, c, sig = hdmc.get_params_mapped()\n",
    "mu = np.vstack([xc,yc]).T\n",
    "\n",
    "# GMR Step\n",
    "sd, htree = gaussian_reduction(c, mu, sig, 1)"
   ]
  },
  {
   "cell_type": "markdown",
   "metadata": {},
   "source": [
    "#### Structural analysis"
   ]
  },
  {
   "cell_type": "code",
   "execution_count": 9,
   "metadata": {},
   "outputs": [
    {
     "name": "stdout",
     "output_type": "stream",
     "text": [
      "Select label locations manually using first mouse button.\n",
      "End manual selection with second mouse button.\n"
     ]
    }
   ],
   "source": [
    "structs_plot(hdmc, [sd[274]], wcs=wcs, unit=hdu.header[\"BUNIT\"], \n",
    "             cmap1=plt.cm.gray_r, manual_label=True,\n",
    "             save_path=save_path+\"decomp_1_orion_bw.eps\")"
   ]
  },
  {
   "cell_type": "code",
   "execution_count": 10,
   "metadata": {},
   "outputs": [
    {
     "data": {
      "text/plain": [
       "(271, 273)"
      ]
     },
     "execution_count": 10,
     "metadata": {},
     "output_type": "execute_result"
    }
   ],
   "source": [
    " htree[274]"
   ]
  },
  {
   "cell_type": "code",
   "execution_count": 13,
   "metadata": {},
   "outputs": [
    {
     "name": "stdout",
     "output_type": "stream",
     "text": [
      "Select label locations manually using first mouse button.\n",
      "End manual selection with second mouse button.\n",
      "Select label locations manually using first mouse button.\n",
      "End manual selection with second mouse button.\n"
     ]
    }
   ],
   "source": [
    "structs_plot(hdmc, [sd[271], sd[273]], wcs=wcs, unit=hdu.header[\"BUNIT\"], \n",
    "             cmap1=plt.cm.gray_r, manual_label=True,\n",
    "             save_path=save_path+\"decomp_2_orion_bw.eps\")"
   ]
  },
  {
   "cell_type": "code",
   "execution_count": 14,
   "metadata": {},
   "outputs": [
    {
     "data": {
      "text/plain": [
       "(266, 272)"
      ]
     },
     "execution_count": 14,
     "metadata": {},
     "output_type": "execute_result"
    }
   ],
   "source": [
    "htree[273]"
   ]
  },
  {
   "cell_type": "code",
   "execution_count": 15,
   "metadata": {},
   "outputs": [
    {
     "name": "stdout",
     "output_type": "stream",
     "text": [
      "Select label locations manually using first mouse button.\n",
      "End manual selection with second mouse button.\n",
      "Select label locations manually using first mouse button.\n",
      "End manual selection with second mouse button.\n",
      "Select label locations manually using first mouse button.\n",
      "End manual selection with second mouse button.\n"
     ]
    }
   ],
   "source": [
    "structs_plot(hdmc, [sd[271], sd[266], sd[272]], wcs=wcs, unit=hdu.header[\"BUNIT\"],\n",
    "             cmap1=plt.cm.gray_r, manual_label=True, \n",
    "             save_path=save_path+\"decomp_3_orion_bw.eps\")"
   ]
  },
  {
   "cell_type": "code",
   "execution_count": 16,
   "metadata": {},
   "outputs": [
    {
     "data": {
      "text/plain": [
       "(245, 269)"
      ]
     },
     "execution_count": 16,
     "metadata": {},
     "output_type": "execute_result"
    }
   ],
   "source": [
    "htree[272]"
   ]
  },
  {
   "cell_type": "code",
   "execution_count": 18,
   "metadata": {},
   "outputs": [
    {
     "name": "stdout",
     "output_type": "stream",
     "text": [
      "Select label locations manually using first mouse button.\n",
      "End manual selection with second mouse button.\n",
      "Select label locations manually using first mouse button.\n",
      "End manual selection with second mouse button.\n",
      "Select label locations manually using first mouse button.\n",
      "End manual selection with second mouse button.\n",
      "Select label locations manually using first mouse button.\n",
      "End manual selection with second mouse button.\n"
     ]
    }
   ],
   "source": [
    "structs_plot(hdmc, [sd[271], sd[266], sd[245], sd[269]], wcs=wcs, unit=hdu.header[\"BUNIT\"],\n",
    "             cmap1=plt.cm.gray_r, manual_label=True, \n",
    "             save_path=save_path+\"decomp_4_orion_bw.eps\")"
   ]
  },
  {
   "cell_type": "code",
   "execution_count": 19,
   "metadata": {},
   "outputs": [
    {
     "data": {
      "text/plain": [
       "(264, 267)"
      ]
     },
     "execution_count": 19,
     "metadata": {},
     "output_type": "execute_result"
    }
   ],
   "source": [
    "htree[269]"
   ]
  },
  {
   "cell_type": "code",
   "execution_count": 22,
   "metadata": {},
   "outputs": [
    {
     "name": "stdout",
     "output_type": "stream",
     "text": [
      "Select label locations manually using first mouse button.\n",
      "End manual selection with second mouse button.\n",
      "Select label locations manually using first mouse button.\n",
      "End manual selection with second mouse button.\n",
      "Select label locations manually using first mouse button.\n",
      "End manual selection with second mouse button.\n",
      "Select label locations manually using first mouse button.\n",
      "End manual selection with second mouse button.\n",
      "Select label locations manually using first mouse button.\n",
      "End manual selection with second mouse button.\n"
     ]
    }
   ],
   "source": [
    "structs_plot(hdmc, [sd[271], sd[266], sd[245], sd[264], sd[267]], \n",
    "             wcs=wcs, unit=hdu.header[\"BUNIT\"],\n",
    "             cmap1=plt.cm.gray_r, manual_label=True, \n",
    "             save_path=save_path+\"decomp_5_orion_bw.eps\")"
   ]
  },
  {
   "cell_type": "code",
   "execution_count": 41,
   "metadata": {},
   "outputs": [
    {
     "data": {
      "text/plain": [
       "(238, 263)"
      ]
     },
     "execution_count": 41,
     "metadata": {},
     "output_type": "execute_result"
    }
   ],
   "source": [
    "htree[267]"
   ]
  },
  {
   "cell_type": "code",
   "execution_count": 23,
   "metadata": {},
   "outputs": [
    {
     "name": "stdout",
     "output_type": "stream",
     "text": [
      "Select label locations manually using first mouse button.\n",
      "End manual selection with second mouse button.\n",
      "Select label locations manually using first mouse button.\n",
      "End manual selection with second mouse button.\n",
      "Select label locations manually using first mouse button.\n",
      "End manual selection with second mouse button.\n",
      "Select label locations manually using first mouse button.\n",
      "End manual selection with second mouse button.\n",
      "Select label locations manually using first mouse button.\n",
      "End manual selection with second mouse button.\n",
      "Select label locations manually using first mouse button.\n",
      "End manual selection with second mouse button.\n"
     ]
    }
   ],
   "source": [
    "structs_plot(hdmc, [sd[271], sd[266], sd[245], sd[264], sd[238], sd[263]], \n",
    "             wcs=wcs, unit=hdu.header[\"BUNIT\"],\n",
    "             cmap1=plt.cm.gray_r, manual_label=True, \n",
    "             save_path=save_path+\"decomp_6_orion_bw.eps\")"
   ]
  },
  {
   "cell_type": "code",
   "execution_count": 24,
   "metadata": {},
   "outputs": [
    {
     "data": {
      "text/plain": [
       "(222, 248)"
      ]
     },
     "execution_count": 24,
     "metadata": {},
     "output_type": "execute_result"
    }
   ],
   "source": [
    "htree[264]"
   ]
  },
  {
   "cell_type": "code",
   "execution_count": 27,
   "metadata": {},
   "outputs": [
    {
     "name": "stdout",
     "output_type": "stream",
     "text": [
      "Select label locations manually using first mouse button.\n",
      "End manual selection with second mouse button.\n",
      "Select label locations manually using first mouse button.\n",
      "End manual selection with second mouse button.\n",
      "Select label locations manually using first mouse button.\n",
      "End manual selection with second mouse button.\n",
      "Select label locations manually using first mouse button.\n",
      "End manual selection with second mouse button.\n",
      "Select label locations manually using first mouse button.\n",
      "End manual selection with second mouse button.\n",
      "Select label locations manually using first mouse button.\n",
      "End manual selection with second mouse button.\n",
      "Select label locations manually using first mouse button.\n",
      "End manual selection with second mouse button.\n"
     ]
    }
   ],
   "source": [
    "structs_plot(hdmc, [sd[271], sd[266], sd[245], sd[222], sd[248], sd[238], sd[263]], \n",
    "             wcs=wcs, unit=hdu.header[\"BUNIT\"],\n",
    "             cmap1=plt.cm.gray_r, manual_label=True, \n",
    "             save_path=save_path+\"decomp_7_orion_bw.eps\")"
   ]
  },
  {
   "cell_type": "code",
   "execution_count": null,
   "metadata": {},
   "outputs": [],
   "source": []
  },
  {
   "cell_type": "code",
   "execution_count": null,
   "metadata": {},
   "outputs": [],
   "source": []
  },
  {
   "cell_type": "code",
   "execution_count": null,
   "metadata": {},
   "outputs": [],
   "source": []
  },
  {
   "cell_type": "markdown",
   "metadata": {},
   "source": [
    "***\n",
    "***\n",
    "## Testing against clasic clumping algorithms"
   ]
  },
  {
   "cell_type": "markdown",
   "metadata": {},
   "source": [
    "#### `clumpfind`"
   ]
  },
  {
   "cell_type": "code",
   "execution_count": 55,
   "metadata": {},
   "outputs": [],
   "source": [
    "# same value used as back_level above\n",
    "noise_level = 0.089"
   ]
  },
  {
   "cell_type": "code",
   "execution_count": 58,
   "metadata": {},
   "outputs": [],
   "source": [
    "out_cf = clumpfind(data, 0.5*noise_level)\n",
    "out_cf[out_cf==out_cf.min()] = 0.\n",
    "\n",
    "caa_show(data, out_cf, wcs=wcs, save_path=save_path+\"orion_clumpfind.eps\")"
   ]
  },
  {
   "cell_type": "markdown",
   "metadata": {},
   "source": [
    "#### `fellwalker`"
   ]
  },
  {
   "cell_type": "code",
   "execution_count": 57,
   "metadata": {},
   "outputs": [],
   "source": [
    "out_fw = fellwalker(data, 0.5*noise_level)\n",
    "out_fw[out_fw==out_fw.min()] = 0.\n",
    "\n",
    "caa_show(data, out_fw, wcs=wcs, save_path=save_path+\"orion_fellwalker.eps\")"
   ]
  },
  {
   "cell_type": "code",
   "execution_count": null,
   "metadata": {},
   "outputs": [],
   "source": []
  }
 ],
 "metadata": {
  "kernelspec": {
   "display_name": "Python 3",
   "language": "python",
   "name": "python3"
  },
  "language_info": {
   "codemirror_mode": {
    "name": "ipython",
    "version": 3
   },
   "file_extension": ".py",
   "mimetype": "text/x-python",
   "name": "python",
   "nbconvert_exporter": "python",
   "pygments_lexer": "ipython3",
   "version": "3.6.4"
  }
 },
 "nbformat": 4,
 "nbformat_minor": 2
}
